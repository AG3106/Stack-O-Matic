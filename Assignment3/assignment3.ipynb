{
 "cells": [
  {
   "metadata": {},
   "cell_type": "markdown",
   "source": [
    "**Assignment 3 Solution**<br>\n",
    "Import Required Libraries"
   ],
   "id": "1ac8dfca59939a08"
  },
  {
   "cell_type": "code",
   "id": "initial_id",
   "metadata": {
    "collapsed": true,
    "ExecuteTime": {
     "end_time": "2024-12-25T20:12:48.612798Z",
     "start_time": "2024-12-25T20:12:47.206296Z"
    }
   },
   "source": [
    "import gymnasium as gym\n",
    "import matplotlib.pyplot as plt\n",
    "import math\n",
    "import random\n",
    "from collections import deque, namedtuple\n",
    "import torch\n",
    "import torch.nn as nn\n",
    "import torch.nn.functional as F\n",
    "import torch.optim as optim"
   ],
   "outputs": [],
   "execution_count": 2
  },
  {
   "metadata": {},
   "cell_type": "markdown",
   "source": "Creating Lunar Lander environment",
   "id": "686f17f00ce81682"
  },
  {
   "metadata": {
    "ExecuteTime": {
     "end_time": "2024-12-25T20:12:50.270244Z",
     "start_time": "2024-12-25T20:12:50.210125Z"
    }
   },
   "cell_type": "code",
   "source": "env = gym.make('LunarLander-v3')",
   "id": "da5c6f6732803c57",
   "outputs": [],
   "execution_count": 3
  },
  {
   "metadata": {},
   "cell_type": "markdown",
   "source": "Set device (gpu if available or else cpu)",
   "id": "51b69334cee29fb2"
  },
  {
   "metadata": {
    "ExecuteTime": {
     "end_time": "2024-12-25T20:12:53.810425Z",
     "start_time": "2024-12-25T20:12:52.016802Z"
    }
   },
   "cell_type": "code",
   "source": [
    "device = torch.device(\"cuda\" if torch.cuda.is_available() else \"cpu\")\n",
    "print(device)"
   ],
   "id": "a1e970cc7b2b9b54",
   "outputs": [
    {
     "name": "stdout",
     "output_type": "stream",
     "text": [
      "cuda\n"
     ]
    }
   ],
   "execution_count": 4
  },
  {
   "metadata": {},
   "cell_type": "markdown",
   "source": "Transition maps state, action pair to next state and reward",
   "id": "c3b5f9698d3b8593"
  },
  {
   "metadata": {
    "ExecuteTime": {
     "end_time": "2024-12-25T20:12:56.413725Z",
     "start_time": "2024-12-25T20:12:56.410631Z"
    }
   },
   "cell_type": "code",
   "source": "Transition = namedtuple('Transition', ('state', 'action', 'next_state', 'reward'))",
   "id": "1a191204067f0c53",
   "outputs": [],
   "execution_count": 5
  },
  {
   "metadata": {},
   "cell_type": "markdown",
   "source": "Creating ReplayMemory for experience replay (better model)",
   "id": "d7e9c2836711dc7"
  },
  {
   "metadata": {
    "ExecuteTime": {
     "end_time": "2024-12-25T20:12:58.016655Z",
     "start_time": "2024-12-25T20:12:58.013416Z"
    }
   },
   "cell_type": "code",
   "source": [
    "class ReplayMemory:\n",
    "    def __init__(self, capacity):\n",
    "        self.memory = deque([],maxlen=capacity) #using deque as we need to remove the oldest memory and add new ones\n",
    "    def push(self, *args):\n",
    "        self.memory.append(Transition(*args))\n",
    "    def sample(self, batch_size):\n",
    "        return random.sample(self.memory, batch_size)\n",
    "    def __len__(self):\n",
    "        return len(self.memory)"
   ],
   "id": "cf3e8d89b319a9fe",
   "outputs": [],
   "execution_count": 6
  },
  {
   "metadata": {},
   "cell_type": "markdown",
   "source": "Creating DQN class with two hidden layers each having 128 neurons",
   "id": "d329d52a2372ff39"
  },
  {
   "metadata": {
    "ExecuteTime": {
     "end_time": "2024-12-25T20:13:00.118235Z",
     "start_time": "2024-12-25T20:13:00.113689Z"
    }
   },
   "cell_type": "code",
   "source": [
    "class DQN(nn.Module):\n",
    "    def __init__(self, state_size, action_size):\n",
    "        super(DQN, self).__init__()\n",
    "        self.layer1 = nn.Linear(state_size, 128)\n",
    "        self.layer2 = nn.Linear(128, 128)\n",
    "        self.layer3 = nn.Linear(128, action_size)\n",
    "    def forward(self, x):\n",
    "        x = F.relu(self.layer1(x))\n",
    "        x = F.relu(self.layer2(x))\n",
    "        return self.layer3(x)"
   ],
   "id": "871d13c843ecc468",
   "outputs": [],
   "execution_count": 7
  },
  {
   "metadata": {},
   "cell_type": "markdown",
   "source": "Parameters for DQN",
   "id": "b6260f3cf6847d7"
  },
  {
   "metadata": {
    "ExecuteTime": {
     "end_time": "2024-12-25T20:13:02.210234Z",
     "start_time": "2024-12-25T20:13:02.205890Z"
    }
   },
   "cell_type": "code",
   "source": [
    "BATCH_SIZE = 128\n",
    "GAMMA = 0.99\n",
    "EPSILON_START = 0.9\n",
    "EPSILON_END = 0.1\n",
    "EPSILON_DECAY = 1000\n",
    "TAU = 0.005\n",
    "lr =1e-4"
   ],
   "id": "674261bb077af79c",
   "outputs": [],
   "execution_count": 8
  },
  {
   "metadata": {},
   "cell_type": "markdown",
   "source": "Storing state size, action size",
   "id": "440a4daaf5a1e1eb"
  },
  {
   "metadata": {
    "ExecuteTime": {
     "end_time": "2024-12-25T20:13:04.582070Z",
     "start_time": "2024-12-25T20:13:04.576210Z"
    }
   },
   "cell_type": "code",
   "source": [
    "n_actions = env.action_space.n #using env.action_space.n since action size is discrete\n",
    "state, info = env.reset()\n",
    "n_observations = len(state)"
   ],
   "id": "effd07541f446d62",
   "outputs": [],
   "execution_count": 9
  },
  {
   "metadata": {},
   "cell_type": "markdown",
   "source": "Creating Policy Network, Target Network",
   "id": "1caa6c1afaa9181b"
  },
  {
   "metadata": {
    "ExecuteTime": {
     "end_time": "2024-12-25T20:13:06.152991Z",
     "start_time": "2024-12-25T20:13:05.991875Z"
    }
   },
   "cell_type": "code",
   "source": [
    "policy_net = DQN(n_observations, n_actions).to(device)\n",
    "target_net = DQN(n_observations, n_actions).to(device)\n",
    "target_net.load_state_dict(policy_net.state_dict()) # making weights of target network equal of that of policy network"
   ],
   "id": "efe37b1ecaf2c0ec",
   "outputs": [
    {
     "data": {
      "text/plain": [
       "<All keys matched successfully>"
      ]
     },
     "execution_count": 10,
     "metadata": {},
     "output_type": "execute_result"
    }
   ],
   "execution_count": 10
  },
  {
   "metadata": {},
   "cell_type": "markdown",
   "source": "Setting Optimizer and memory of capacity `100000`",
   "id": "3032ef113136f9dd"
  },
  {
   "metadata": {
    "ExecuteTime": {
     "end_time": "2024-12-25T20:13:10.312042Z",
     "start_time": "2024-12-25T20:13:09.513540Z"
    }
   },
   "cell_type": "code",
   "source": [
    "optimizer = optim.AdamW(policy_net.parameters(), lr=lr)\n",
    "memory = ReplayMemory(100000)"
   ],
   "id": "743dc5fc19895752",
   "outputs": [],
   "execution_count": 11
  },
  {
   "metadata": {},
   "cell_type": "markdown",
   "source": "`steps_done` counts overall steps done",
   "id": "65c9a13d3d82c997"
  },
  {
   "metadata": {
    "ExecuteTime": {
     "end_time": "2024-12-25T20:13:14.951426Z",
     "start_time": "2024-12-25T20:13:14.947230Z"
    }
   },
   "cell_type": "code",
   "source": "steps_done = 0",
   "id": "c133b311a7d7953",
   "outputs": [],
   "execution_count": 12
  },
  {
   "metadata": {},
   "cell_type": "markdown",
   "source": "`select_action` function selects action to be taken with epsilon greedy algorithm",
   "id": "3122a65191881c15"
  },
  {
   "metadata": {
    "ExecuteTime": {
     "end_time": "2024-12-25T20:13:16.732134Z",
     "start_time": "2024-12-25T20:13:16.728244Z"
    }
   },
   "cell_type": "code",
   "source": [
    "def select_action(state):\n",
    "    global steps_done\n",
    "    sample = random.random()\n",
    "    eps_threshold = EPSILON_END + (EPSILON_START - EPSILON_END) * math.exp(-1. * steps_done / EPSILON_DECAY) #Exponentially decaying epsilon-greedy exploration\n",
    "    steps_done += 1\n",
    "    if sample > eps_threshold:\n",
    "        with torch.no_grad():\n",
    "            return policy_net(state).max(1).indices.view(1,1)\n",
    "    else:\n",
    "        return torch.tensor([[env.action_space.sample()]], device=device) #random action selection"
   ],
   "id": "ba7294856a07bb11",
   "outputs": [],
   "execution_count": 13
  },
  {
   "metadata": {},
   "cell_type": "markdown",
   "source": "A list of Total Reward of each episode",
   "id": "c6b235980778d0f3"
  },
  {
   "metadata": {
    "ExecuteTime": {
     "end_time": "2024-12-25T20:13:18.497945Z",
     "start_time": "2024-12-25T20:13:18.494833Z"
    }
   },
   "cell_type": "code",
   "source": "episode_reward = []",
   "id": "f58b70558e95db76",
   "outputs": [],
   "execution_count": 14
  },
  {
   "metadata": {},
   "cell_type": "markdown",
   "source": "`plot` function to plot final result of training",
   "id": "6aa68d37bbe620c0"
  },
  {
   "metadata": {
    "ExecuteTime": {
     "end_time": "2024-12-25T20:13:19.617936Z",
     "start_time": "2024-12-25T20:13:19.615617Z"
    }
   },
   "cell_type": "code",
   "source": [
    "def plot():\n",
    "    plt.figure(1)\n",
    "    total_reward = torch.tensor(episode_reward, dtype=torch.float)\n",
    "    plt.title('Result')\n",
    "    plt.xlabel('Episode')\n",
    "    plt.ylabel('Total_Reward')\n",
    "    plt.ylim(-100,350)\n",
    "    plt.plot(total_reward.numpy())"
   ],
   "id": "441fcb025be412db",
   "outputs": [],
   "execution_count": 15
  },
  {
   "metadata": {},
   "cell_type": "markdown",
   "source": "`optimize` function to optimize the DQN",
   "id": "58784c9f242c1630"
  },
  {
   "metadata": {
    "ExecuteTime": {
     "end_time": "2024-12-25T20:13:21.321067Z",
     "start_time": "2024-12-25T20:13:21.311343Z"
    }
   },
   "cell_type": "code",
   "source": [
    "def optimize():\n",
    "    if len(memory) < BATCH_SIZE:\n",
    "        return\n",
    "    transitions = memory.sample(BATCH_SIZE)\n",
    "    batch = Transition(*zip(*transitions))\n",
    "    state_batch = torch.cat(batch.state)\n",
    "    action_batch = torch.cat(batch.action)\n",
    "    reward_batch = torch.cat(batch.reward)\n",
    "    non_final_mask = torch.tensor(tuple(map(lambda s: s is not None,batch.next_state)), device=device, dtype=torch.bool)\n",
    "    non_final_next_states = torch.cat([s for s in batch.next_state if s is not None])\n",
    "    \n",
    "    state_action_values = policy_net(state_batch).gather(1, action_batch)\n",
    "    \n",
    "    next_state_values = torch.zeros(BATCH_SIZE, device=device)\n",
    "    with torch.no_grad():\n",
    "        next_state_values[non_final_mask] = target_net(non_final_next_states).max(1).values\n",
    "    \n",
    "    expected_state_action_values = reward_batch + GAMMA * next_state_values #bellman equation\n",
    "    \n",
    "    criterion = nn.SmoothL1Loss() #Huber Loss\n",
    "    loss = criterion(state_action_values, expected_state_action_values.unsqueeze(1)) # unsqueeze for changing dimension\n",
    "    \n",
    "    optimizer.zero_grad()\n",
    "    loss.backward() #backpropogation\n",
    "    \n",
    "    torch.nn.utils.clip_grad_value_(policy_net.parameters(), 100)\n",
    "    optimizer.step()"
   ],
   "id": "a9d690d8bd26c248",
   "outputs": [],
   "execution_count": 16
  },
  {
   "metadata": {},
   "cell_type": "markdown",
   "source": "Storing maximum Total Reward achieved during training",
   "id": "4f42a31984430171"
  },
  {
   "metadata": {
    "ExecuteTime": {
     "end_time": "2024-12-25T20:13:25.393452Z",
     "start_time": "2024-12-25T20:13:25.389982Z"
    }
   },
   "cell_type": "code",
   "source": "max_treward = 0",
   "id": "5e1de8d01265a879",
   "outputs": [],
   "execution_count": 17
  },
  {
   "metadata": {},
   "cell_type": "markdown",
   "source": "Running 1000 iterations of environment to train model",
   "id": "3dbbede0dab622a9"
  },
  {
   "metadata": {
    "ExecuteTime": {
     "end_time": "2024-12-25T09:35:02.616457Z",
     "start_time": "2024-12-25T09:15:31.111546Z"
    }
   },
   "cell_type": "code",
   "source": [
    "for i_episode in range(1000):\n",
    "    treward = 0\n",
    "    state, info = env.reset()\n",
    "    state = torch.tensor(state, dtype=torch.float32, device=device).unsqueeze(0)\n",
    "    while True:\n",
    "        action = select_action(state)\n",
    "        observation, rewardn, terminated,_ ,_= env.step(action.item())\n",
    "        reward = torch.tensor([rewardn], device=device)\n",
    "        if terminated:\n",
    "            next_state = None\n",
    "        else:\n",
    "            next_state = torch.tensor(observation, dtype=torch.float, device=device).unsqueeze(0)\n",
    "        treward += rewardn\n",
    "        memory.push(state, action, next_state, reward)\n",
    "        state = next_state\n",
    "        optimize()\n",
    "        #updating target network slowly\n",
    "        target_net_state_dict = target_net.state_dict()\n",
    "        policy_net_state_dict = policy_net.state_dict()\n",
    "        for key in policy_net_state_dict:\n",
    "            target_net_state_dict[key] = policy_net_state_dict[key]*TAU + target_net_state_dict[key]*(1 - TAU)\n",
    "        target_net.load_state_dict(target_net_state_dict)\n",
    "        \n",
    "        if terminated:\n",
    "            if treward >= max_treward and treward >= 200: #treward >=200 since it is required condition for a valid solution as given in gymnasium documentation\n",
    "                max_treward = treward\n",
    "                print('GOOD EPISODE: \\n Total Reward:', max_treward)\n",
    "                torch.save(policy_net.state_dict(), './policy_net_max.pth') #saving Policy Network with maximum reward\n",
    "            episode_reward.append(treward)\n",
    "            break"
   ],
   "id": "8681ea06d436f7a9",
   "outputs": [
    {
     "name": "stdout",
     "output_type": "stream",
     "text": [
      "GOOD EPISODE: \n",
      " Total Reward: 201.14286403712768\n",
      "GOOD EPISODE: \n",
      " Total Reward: 252.28151555837553\n",
      "GOOD EPISODE: \n",
      " Total Reward: 269.2808679406512\n",
      "GOOD EPISODE: \n",
      " Total Reward: 270.66943044402865\n",
      "GOOD EPISODE: \n",
      " Total Reward: 273.063498851668\n",
      "GOOD EPISODE: \n",
      " Total Reward: 294.2192936817154\n",
      "GOOD EPISODE: \n",
      " Total Reward: 299.47901512164447\n",
      "GOOD EPISODE: \n",
      " Total Reward: 312.9328378789752\n",
      "GOOD EPISODE: \n",
      " Total Reward: 316.6551339043914\n"
     ]
    }
   ],
   "execution_count": 17
  },
  {
   "metadata": {},
   "cell_type": "markdown",
   "source": "Training Result",
   "id": "4c4a7898f72f15af"
  },
  {
   "metadata": {
    "ExecuteTime": {
     "end_time": "2024-12-25T09:50:09.159616Z",
     "start_time": "2024-12-25T09:50:09.059526Z"
    }
   },
   "cell_type": "code",
   "source": [
    "print('Finished Training')\n",
    "torch.save(policy_net.state_dict(), './policy_net_final.pth')\n",
    "plot()\n",
    "print(\"Max Total reward: \", max_treward)\n",
    "print('Final Total reward: ', episode_reward[-1])"
   ],
   "id": "65786ceb9e65afa0",
   "outputs": [
    {
     "name": "stdout",
     "output_type": "stream",
     "text": [
      "Finished Training\n",
      "Max Total reward:  316.6551339043914\n",
      "Final Total reward:  287.1260325881574\n"
     ]
    },
    {
     "data": {
      "text/plain": [
       "<Figure size 640x480 with 1 Axes>"
      ],
      "image/png": "[encoded data removed]"
     },
     "metadata": {},
     "output_type": "display_data"
    }
   ],
   "execution_count": 54
  },
  {
   "metadata": {},
   "cell_type": "markdown",
   "source": "Testing the Policy Network having maximum Total Reward",
   "id": "60b5e734cba1802b"
  },
  {
   "metadata": {
    "ExecuteTime": {
     "end_time": "2024-12-25T20:14:34.130864Z",
     "start_time": "2024-12-25T20:14:28.199964Z"
    }
   },
   "cell_type": "code",
   "source": [
    "#inference\n",
    "env = gym.make('LunarLander-v3',render_mode = 'human') #render_mode = human creates a pygame window for simulation\n",
    "state, info = env.reset()\n",
    "model = DQN(n_observations, n_actions)\n",
    "model.load_state_dict(torch.load(\"./policy_net_max.pth\", weights_only=True))\n",
    "model.eval()\n",
    "terminated = False\n",
    "trewardinf = 0\n",
    "while not terminated:\n",
    "    state = torch.tensor(state, dtype=torch.float32, device='cpu').unsqueeze(0)\n",
    "    action = model(state).max(1).indices.view(1,1)  # agent policy that uses the observation and info\n",
    "    observation, reward, terminated, truncated, info = env.step(action.item())\n",
    "    trewardinf += reward\n",
    "    state = observation\n",
    "env.close()\n",
    "print(trewardinf)"
   ],
   "id": "7c28f55639596442",
   "outputs": [
    {
     "name": "stdout",
     "output_type": "stream",
     "text": [
      "274.3579608900477\n"
     ]
    }
   ],
   "execution_count": 20
  }
 ],
 "metadata": {
  "kernelspec": {
   "display_name": "Python 3",
   "language": "python",
   "name": "python3"
  },
  "language_info": {
   "codemirror_mode": {
    "name": "ipython",
    "version": 2
   },
   "file_extension": ".py",
   "mimetype": "text/x-python",
   "name": "python",
   "nbconvert_exporter": "python",
   "pygments_lexer": "ipython2",
   "version": "2.7.6"
  }
 },
 "nbformat": 4,
 "nbformat_minor": 5
}
