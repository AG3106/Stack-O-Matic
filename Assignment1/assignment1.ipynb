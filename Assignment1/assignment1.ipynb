{
 "cells": [
  {
   "metadata": {},
   "cell_type": "markdown",
   "source": [
    "**Assignment 1 Solution** <br>\n",
    "Importing Required Libraries"
   ],
   "id": "51591425212aca1e"
  },
  {
   "cell_type": "code",
   "id": "initial_id",
   "metadata": {
    "collapsed": true,
    "ExecuteTime": {
     "end_time": "2024-12-13T12:12:28.040347Z",
     "start_time": "2024-12-13T12:12:27.557175Z"
    }
   },
   "source": [
    "import pandas as pd\n",
    "import numpy as np"
   ],
   "outputs": [],
   "execution_count": 2
  },
  {
   "metadata": {},
   "cell_type": "markdown",
   "source": [
    "**PART 1** <br>\n",
    "Opening csv file and displaying rows"
   ],
   "id": "5ca5a85d07ae4aa3"
  },
  {
   "metadata": {
    "ExecuteTime": {
     "end_time": "2024-12-13T12:12:28.119371Z",
     "start_time": "2024-12-13T12:12:28.076976Z"
    }
   },
   "cell_type": "code",
   "source": [
    "data = pd.read_csv('./california_housing_train.csv')\n",
    "print(data[:5])\n",
    "print(data[-10:]) #using negative index for displaying last rows"
   ],
   "id": "a1d6ea213a0c9183",
   "outputs": [
    {
     "name": "stdout",
     "output_type": "stream",
     "text": [
      "   longitude  latitude  housing_median_age  total_rooms  total_bedrooms  \\\n",
      "0    -114.31     34.19                15.0       5612.0          1283.0   \n",
      "1    -114.47     34.40                19.0       7650.0          1901.0   \n",
      "2    -114.56     33.69                17.0        720.0           174.0   \n",
      "3    -114.57     33.64                14.0       1501.0           337.0   \n",
      "4    -114.57     33.57                20.0       1454.0           326.0   \n",
      "\n",
      "   population  households  median_income  median_house_value  \n",
      "0      1015.0       472.0         1.4936             66900.0  \n",
      "1      1129.0       463.0         1.8200             80100.0  \n",
      "2       333.0       117.0         1.6509             85700.0  \n",
      "3       515.0       226.0         3.1917             73400.0  \n",
      "4       624.0       262.0         1.9250             65500.0  \n",
      "       longitude  latitude  housing_median_age  total_rooms  total_bedrooms  \\\n",
      "16990    -124.22     41.73                28.0       3003.0           699.0   \n",
      "16991    -124.23     41.75                11.0       3159.0           616.0   \n",
      "16992    -124.23     40.81                52.0       1112.0           209.0   \n",
      "16993    -124.23     40.54                52.0       2694.0           453.0   \n",
      "16994    -124.25     40.28                32.0       1430.0           419.0   \n",
      "16995    -124.26     40.58                52.0       2217.0           394.0   \n",
      "16996    -124.27     40.69                36.0       2349.0           528.0   \n",
      "16997    -124.30     41.84                17.0       2677.0           531.0   \n",
      "16998    -124.30     41.80                19.0       2672.0           552.0   \n",
      "16999    -124.35     40.54                52.0       1820.0           300.0   \n",
      "\n",
      "       population  households  median_income  median_house_value  \n",
      "16990      1530.0       653.0         1.7038             78300.0  \n",
      "16991      1343.0       479.0         2.4805             73200.0  \n",
      "16992       544.0       172.0         3.3462             50800.0  \n",
      "16993      1152.0       435.0         3.0806            106700.0  \n",
      "16994       434.0       187.0         1.9417             76100.0  \n",
      "16995       907.0       369.0         2.3571            111400.0  \n",
      "16996      1194.0       465.0         2.5179             79000.0  \n",
      "16997      1244.0       456.0         3.0313            103600.0  \n",
      "16998      1298.0       478.0         1.9797             85800.0  \n",
      "16999       806.0       270.0         3.0147             94600.0  \n"
     ]
    }
   ],
   "execution_count": 3
  },
  {
   "metadata": {},
   "cell_type": "markdown",
   "source": "Displaying Statiscal Summary of dataframe using `.describe()`",
   "id": "ca0609e70c674d06"
  },
  {
   "metadata": {
    "ExecuteTime": {
     "end_time": "2024-12-13T12:12:28.208908Z",
     "start_time": "2024-12-13T12:12:28.170138Z"
    }
   },
   "cell_type": "code",
   "source": [
    "summary = data.describe()\n",
    "print(summary)"
   ],
   "id": "bf0f41960bd275af",
   "outputs": [
    {
     "name": "stdout",
     "output_type": "stream",
     "text": [
      "          longitude      latitude  housing_median_age   total_rooms  \\\n",
      "count  17000.000000  17000.000000        17000.000000  17000.000000   \n",
      "mean    -119.562108     35.625225           28.589353   2643.664412   \n",
      "std        2.005166      2.137340           12.586937   2179.947071   \n",
      "min     -124.350000     32.540000            1.000000      2.000000   \n",
      "25%     -121.790000     33.930000           18.000000   1462.000000   \n",
      "50%     -118.490000     34.250000           29.000000   2127.000000   \n",
      "75%     -118.000000     37.720000           37.000000   3151.250000   \n",
      "max     -114.310000     41.950000           52.000000  37937.000000   \n",
      "\n",
      "       total_bedrooms    population    households  median_income  \\\n",
      "count    17000.000000  17000.000000  17000.000000   17000.000000   \n",
      "mean       539.410824   1429.573941    501.221941       3.883578   \n",
      "std        421.499452   1147.852959    384.520841       1.908157   \n",
      "min          1.000000      3.000000      1.000000       0.499900   \n",
      "25%        297.000000    790.000000    282.000000       2.566375   \n",
      "50%        434.000000   1167.000000    409.000000       3.544600   \n",
      "75%        648.250000   1721.000000    605.250000       4.767000   \n",
      "max       6445.000000  35682.000000   6082.000000      15.000100   \n",
      "\n",
      "       median_house_value  \n",
      "count        17000.000000  \n",
      "mean        207300.912353  \n",
      "std         115983.764387  \n",
      "min          14999.000000  \n",
      "25%         119400.000000  \n",
      "50%         180400.000000  \n",
      "75%         265000.000000  \n",
      "max         500001.000000  \n"
     ]
    }
   ],
   "execution_count": 4
  },
  {
   "metadata": {},
   "cell_type": "markdown",
   "source": "Finding Unique Values in Column using `numpy.unique()`",
   "id": "5673ff777f6373e5"
  },
  {
   "metadata": {
    "ExecuteTime": {
     "end_time": "2024-12-13T12:12:28.270260Z",
     "start_time": "2024-12-13T12:12:28.263613Z"
    }
   },
   "cell_type": "code",
   "source": [
    "total_bedrooms = np.array(data['total_bedrooms'])\n",
    "unique_bedrooms = np.unique(total_bedrooms)\n",
    "print('Unique Values \\n',unique_bedrooms)\n",
    "print('No. of Unique Values: ',len(unique_bedrooms))"
   ],
   "id": "fb697eeeaf1eebf6",
   "outputs": [
    {
     "name": "stdout",
     "output_type": "stream",
     "text": [
      "Unique Values \n",
      " [1.000e+00 2.000e+00 3.000e+00 ... 5.290e+03 5.471e+03 6.445e+03]\n",
      "No. of Unique Values:  1848\n"
     ]
    }
   ],
   "execution_count": 5
  },
  {
   "metadata": {},
   "cell_type": "markdown",
   "source": "Creating New Column in Dataframe",
   "id": "c862ce7667252cdb"
  },
  {
   "metadata": {
    "ExecuteTime": {
     "end_time": "2024-12-13T12:12:28.333657Z",
     "start_time": "2024-12-13T12:12:28.327822Z"
    }
   },
   "cell_type": "code",
   "source": "data['total_bedrooms_per_total_rooms'] = data['total_bedrooms'] / data['total_rooms']",
   "id": "52b1847a1a305fda",
   "outputs": [],
   "execution_count": 6
  },
  {
   "metadata": {},
   "cell_type": "markdown",
   "source": "Calculating mean and standard deviation of column using `.mean()` and `.std()`",
   "id": "1991f76ce50b9e2f"
  },
  {
   "metadata": {
    "ExecuteTime": {
     "end_time": "2024-12-13T12:12:28.394788Z",
     "start_time": "2024-12-13T12:12:28.389520Z"
    }
   },
   "cell_type": "code",
   "source": [
    "m = data['total_bedrooms_per_total_rooms'].mean()\n",
    "sd = data['total_bedrooms_per_total_rooms'].std()\n",
    "print('mean is: ',m)\n",
    "print('standard deviation is: ',sd)"
   ],
   "id": "afbe87fa6ca37f8f",
   "outputs": [
    {
     "name": "stdout",
     "output_type": "stream",
     "text": [
      "mean is:  0.21275998821034803\n",
      "standard deviation is:  0.05782300890316167\n"
     ]
    }
   ],
   "execution_count": 7
  },
  {
   "metadata": {},
   "cell_type": "markdown",
   "source": "Filter data for Single Column Condition",
   "id": "6ff138b7e8a1d040"
  },
  {
   "metadata": {
    "ExecuteTime": {
     "end_time": "2024-12-13T12:12:28.472738Z",
     "start_time": "2024-12-13T12:12:28.461720Z"
    }
   },
   "cell_type": "code",
   "source": [
    "filter_data = data[data['median_income'] > 5]\n",
    "print(filter_data)"
   ],
   "id": "4f2c524a2fed29b4",
   "outputs": [
    {
     "name": "stdout",
     "output_type": "stream",
     "text": [
      "       longitude  latitude  housing_median_age  total_rooms  total_bedrooms  \\\n",
      "32       -115.39     32.76                16.0       1136.0           196.0   \n",
      "69       -115.55     32.98                33.0       2266.0           365.0   \n",
      "92       -115.57     32.78                20.0       1534.0           235.0   \n",
      "98       -115.58     32.78                 5.0       2494.0           414.0   \n",
      "100      -115.59     32.79                 8.0       2183.0           307.0   \n",
      "...          ...       ...                 ...          ...             ...   \n",
      "16737    -122.89     38.38                16.0       2017.0           369.0   \n",
      "16762    -122.94     38.57                33.0       1530.0           266.0   \n",
      "16776    -123.00     38.33                 8.0       3223.0           637.0   \n",
      "16802    -123.17     39.18                14.0       2240.0           327.0   \n",
      "16899    -124.05     40.94                14.0       1452.0           217.0   \n",
      "\n",
      "       population  households  median_income  median_house_value  \\\n",
      "32          481.0       185.0         6.2558            146300.0   \n",
      "69          952.0       360.0         5.4349            143000.0   \n",
      "92          871.0       222.0         6.2715             97200.0   \n",
      "98         1416.0       421.0         5.7843            110100.0   \n",
      "100        1000.0       287.0         6.3814            159900.0   \n",
      "...           ...         ...            ...                 ...   \n",
      "16737       931.0       336.0         5.7664            267500.0   \n",
      "16762       728.0       250.0         5.1005            266700.0   \n",
      "16776       851.0       418.0         5.6445            364800.0   \n",
      "16802      1030.0       308.0         5.9585            214900.0   \n",
      "16899       516.0       181.0         5.0329            165600.0   \n",
      "\n",
      "       total_bedrooms_per_total_rooms  \n",
      "32                           0.172535  \n",
      "69                           0.161077  \n",
      "92                           0.153194  \n",
      "98                           0.165998  \n",
      "100                          0.140632  \n",
      "...                               ...  \n",
      "16737                        0.182945  \n",
      "16762                        0.173856  \n",
      "16776                        0.197642  \n",
      "16802                        0.145982  \n",
      "16899                        0.149449  \n",
      "\n",
      "[3752 rows x 10 columns]\n"
     ]
    }
   ],
   "execution_count": 8
  },
  {
   "metadata": {},
   "cell_type": "markdown",
   "source": "Making a subset dataframe by filtering dataframe for multiple column condition using `.query()`",
   "id": "db3710c9149aad0c"
  },
  {
   "metadata": {
    "ExecuteTime": {
     "end_time": "2024-12-13T12:12:28.555075Z",
     "start_time": "2024-12-13T12:12:28.537843Z"
    }
   },
   "cell_type": "code",
   "source": [
    "sdata = data.query('total_rooms > 10000 and median_house_value < 150000')\n",
    "print(sdata)"
   ],
   "id": "98ccffc4c38196a6",
   "outputs": [
    {
     "name": "stdout",
     "output_type": "stream",
     "text": [
      "       longitude  latitude  housing_median_age  total_rooms  total_bedrooms  \\\n",
      "133      -116.06     34.15                15.0      10377.0          2331.0   \n",
      "191      -116.36     33.88                11.0      12557.0          3098.0   \n",
      "198      -116.38     33.73                10.0      11836.0          2405.0   \n",
      "201      -116.39     33.82                15.0      11115.0          2257.0   \n",
      "229      -116.47     33.81                 7.0      10105.0          2481.0   \n",
      "...          ...       ...                 ...          ...             ...   \n",
      "12654    -121.75     38.67                 9.0      12139.0          2640.0   \n",
      "12772    -121.79     36.64                11.0      32627.0          6445.0   \n",
      "13388    -121.94     38.27                35.0      10869.0          2226.0   \n",
      "13707    -122.00     38.25                 7.0      11768.0          1893.0   \n",
      "15436    -122.31     40.55                11.0      13714.0          2302.0   \n",
      "\n",
      "       population  households  median_income  median_house_value  \\\n",
      "133        4507.0      1807.0         2.2466             66800.0   \n",
      "191        2453.0      1232.0         1.7844             78500.0   \n",
      "198        3811.0      1570.0         4.0079            134500.0   \n",
      "201        4122.0      1653.0         2.7219             74400.0   \n",
      "229        6274.0      2095.0         2.4497             90900.0   \n",
      "...           ...         ...            ...                 ...   \n",
      "12654      6837.0      2358.0         3.1250            132500.0   \n",
      "12772     28566.0      6082.0         2.3087            118800.0   \n",
      "13388      9879.0      2152.0         2.5681             81300.0   \n",
      "13707      6657.0      1874.0         4.9222            142900.0   \n",
      "15436      6511.0      2267.0         3.5522            100100.0   \n",
      "\n",
      "       total_bedrooms_per_total_rooms  \n",
      "133                          0.224631  \n",
      "191                          0.246715  \n",
      "198                          0.203194  \n",
      "201                          0.203059  \n",
      "229                          0.245522  \n",
      "...                               ...  \n",
      "12654                        0.217481  \n",
      "12772                        0.197536  \n",
      "13388                        0.204803  \n",
      "13707                        0.160860  \n",
      "15436                        0.167858  \n",
      "\n",
      "[67 rows x 10 columns]\n"
     ]
    }
   ],
   "execution_count": 9
  },
  {
   "metadata": {},
   "cell_type": "markdown",
   "source": "Saving Dataframe as csv file",
   "id": "18ddcc1ea5adb3fb"
  },
  {
   "metadata": {
    "ExecuteTime": {
     "end_time": "2024-12-13T12:12:28.615058Z",
     "start_time": "2024-12-13T12:12:28.608434Z"
    }
   },
   "cell_type": "code",
   "source": "sdata.to_csv('subsetdata.csv')",
   "id": "a2b70f8f09c98644",
   "outputs": [],
   "execution_count": 10
  },
  {
   "metadata": {},
   "cell_type": "markdown",
   "source": [
    "**PART 2** <br>\n",
    "Creating a numpy array using `numpy.arange()`"
   ],
   "id": "891e882253236ed6"
  },
  {
   "metadata": {
    "ExecuteTime": {
     "end_time": "2024-12-13T12:12:28.674429Z",
     "start_time": "2024-12-13T12:12:28.669804Z"
    }
   },
   "cell_type": "code",
   "source": [
    "a = np.arange(1,21)\n",
    "print(a)"
   ],
   "id": "b9c3b459f5e78409",
   "outputs": [
    {
     "name": "stdout",
     "output_type": "stream",
     "text": [
      "[ 1  2  3  4  5  6  7  8  9 10 11 12 13 14 15 16 17 18 19 20]\n"
     ]
    }
   ],
   "execution_count": 11
  },
  {
   "metadata": {},
   "cell_type": "markdown",
   "source": "Slicing Numpy array",
   "id": "5a967f5cff6f4c5d"
  },
  {
   "metadata": {
    "ExecuteTime": {
     "end_time": "2024-12-13T12:12:28.746544Z",
     "start_time": "2024-12-13T12:12:28.740673Z"
    }
   },
   "cell_type": "code",
   "source": [
    "b = a[1::2] # sliced array starts from index 1 with step size of 2\n",
    "print(b)"
   ],
   "id": "da6b861e7816086e",
   "outputs": [
    {
     "name": "stdout",
     "output_type": "stream",
     "text": [
      "[ 2  4  6  8 10 12 14 16 18 20]\n"
     ]
    }
   ],
   "execution_count": 12
  },
  {
   "metadata": {},
   "cell_type": "markdown",
   "source": "Generating Random arrays",
   "id": "87ff4ef3f6067439"
  },
  {
   "metadata": {
    "ExecuteTime": {
     "end_time": "2024-12-13T12:12:28.809935Z",
     "start_time": "2024-12-13T12:12:28.804718Z"
    }
   },
   "cell_type": "code",
   "source": [
    "rng = np.random.default_rng() # creating a generator\n",
    "r = rng.integers(low = 10, high= 100, size = (5,4)) #creating random array of integers between 10 and 100 \n",
    "print(r)"
   ],
   "id": "a0ac1960e1322a72",
   "outputs": [
    {
     "name": "stdout",
     "output_type": "stream",
     "text": [
      "[[58 53 66 59]\n",
      " [63 83 37 63]\n",
      " [60 30 17 20]\n",
      " [55 60 88 37]\n",
      " [88 14 25 19]]\n"
     ]
    }
   ],
   "execution_count": 13
  },
  {
   "metadata": {},
   "cell_type": "markdown",
   "source": "Slicing 2D Numpy Array",
   "id": "ba0b0161d93d7810"
  },
  {
   "metadata": {
    "ExecuteTime": {
     "end_time": "2024-12-13T12:12:28.882422Z",
     "start_time": "2024-12-13T12:12:28.878025Z"
    }
   },
   "cell_type": "code",
   "source": [
    "new_r = r[:3,:2]\n",
    "print(new_r)"
   ],
   "id": "ebac9a62bfe189bd",
   "outputs": [
    {
     "name": "stdout",
     "output_type": "stream",
     "text": [
      "[[58 53]\n",
      " [63 83]\n",
      " [60 30]]\n"
     ]
    }
   ],
   "execution_count": 14
  },
  {
   "metadata": {},
   "cell_type": "markdown",
   "source": "Reshaping and Flattening Array using `.reshape()` and `.flatten()`",
   "id": "f582bda4e5996f66"
  },
  {
   "metadata": {
    "ExecuteTime": {
     "end_time": "2024-12-13T12:12:28.957055Z",
     "start_time": "2024-12-13T12:12:28.951895Z"
    }
   },
   "cell_type": "code",
   "source": [
    "new_a = a.reshape(4,5)\n",
    "print(new_a)\n",
    "flattened_a = new_a.flatten()\n",
    "print(flattened_a)"
   ],
   "id": "3f7687db01e62579",
   "outputs": [
    {
     "name": "stdout",
     "output_type": "stream",
     "text": [
      "[[ 1  2  3  4  5]\n",
      " [ 6  7  8  9 10]\n",
      " [11 12 13 14 15]\n",
      " [16 17 18 19 20]]\n",
      "[ 1  2  3  4  5  6  7  8  9 10 11 12 13 14 15 16 17 18 19 20]\n"
     ]
    }
   ],
   "execution_count": 15
  },
  {
   "metadata": {},
   "cell_type": "markdown",
   "source": "Generating random 2D array and using mathmul operator `@` for matrix multiplication",
   "id": "ad350439128e29c4"
  },
  {
   "metadata": {
    "ExecuteTime": {
     "end_time": "2024-12-13T12:12:29.027647Z",
     "start_time": "2024-12-13T12:12:29.022356Z"
    }
   },
   "cell_type": "code",
   "source": [
    "r2 = rng.integers(100, size= (4,5))\n",
    "print(new_a @ r2.T) #Taking Transpose for dimension matching for multiplication"
   ],
   "id": "f7f1b16e5bafa54d",
   "outputs": [
    {
     "name": "stdout",
     "output_type": "stream",
     "text": [
      "[[ 771  842  671  701]\n",
      " [1931 2352 1961 1661]\n",
      " [3091 3862 3251 2621]\n",
      " [4251 5372 4541 3581]]\n"
     ]
    }
   ],
   "execution_count": 16
  },
  {
   "metadata": {},
   "cell_type": "markdown",
   "source": "Creating a NumPy array of 50 random integers between 0 and 100 and using `numpy.where()` for finding where value is greater than 50",
   "id": "be04cbba9a4a6ef7"
  },
  {
   "metadata": {
    "ExecuteTime": {
     "end_time": "2024-12-13T12:12:29.096273Z",
     "start_time": "2024-12-13T12:12:29.090862Z"
    }
   },
   "cell_type": "code",
   "source": [
    "r3 = rng.integers(0, 100, size= 50)\n",
    "r3b = r3[np.where(r3>50)]\n",
    "print(r3b)"
   ],
   "id": "845561a6c5ac7867",
   "outputs": [
    {
     "name": "stdout",
     "output_type": "stream",
     "text": [
      "[74 81 91 69 54 94 84 51 85 93 78 65 54 60 88 85 81 91 75 52 97 78 99 71\n",
      " 66 60 90 95]\n"
     ]
    }
   ],
   "execution_count": 17
  },
  {
   "metadata": {},
   "cell_type": "markdown",
   "source": "Using Fancy Indexing",
   "id": "e2202ddd40f895f1"
  },
  {
   "metadata": {
    "ExecuteTime": {
     "end_time": "2024-12-13T12:12:29.164228Z",
     "start_time": "2024-12-13T12:12:29.159116Z"
    }
   },
   "cell_type": "code",
   "source": [
    "i = rng.integers(0, len(r3)-1, size= 10, endpoint= True) #generating random array of indexes\n",
    "print('Indexes are: ', i)\n",
    "print(r3[i])"
   ],
   "id": "34fed5d07778cb18",
   "outputs": [
    {
     "name": "stdout",
     "output_type": "stream",
     "text": [
      "Indexes are:  [40 44 36 23  9 48  5 18  0 29]\n",
      "[30 16 33 41 54 90 41 49 74 91]\n"
     ]
    }
   ],
   "execution_count": 18
  },
  {
   "metadata": {},
   "cell_type": "markdown",
   "source": "Calculating mean,max,sum,min along each column",
   "id": "21323f91fb90fa20"
  },
  {
   "metadata": {
    "ExecuteTime": {
     "end_time": "2024-12-13T12:12:29.228450Z",
     "start_time": "2024-12-13T12:12:29.222732Z"
    }
   },
   "cell_type": "code",
   "source": [
    "#Setting axis = 0 for calculating mean, sum, min, max along columns\n",
    "mean= r.mean(axis=0)\n",
    "print('Mean: ',mean)\n",
    "sum = r.sum(axis=0)\n",
    "print('Sum: ',sum)\n",
    "min = r.min(axis=0)\n",
    "print('Min: ',min)\n",
    "max = r.max(axis=0)\n",
    "print('Max: ',max)"
   ],
   "id": "d65325e37d8075da",
   "outputs": [
    {
     "name": "stdout",
     "output_type": "stream",
     "text": [
      "Mean:  [64.8 48.  46.6 39.6]\n",
      "Sum:  [324 240 233 198]\n",
      "Min:  [55 14 17 19]\n",
      "Max:  [88 83 88 63]\n"
     ]
    }
   ],
   "execution_count": 19
  },
  {
   "metadata": {},
   "cell_type": "markdown",
   "source": "Creating mask and Displaying Filtered Array",
   "id": "842a58f8ec3dda7f"
  },
  {
   "metadata": {
    "ExecuteTime": {
     "end_time": "2024-12-13T12:12:29.298128Z",
     "start_time": "2024-12-13T12:12:29.290589Z"
    }
   },
   "cell_type": "code",
   "source": [
    "mask_r = np.where(r > mean ,True, False)\n",
    "print(mask_r)\n",
    "filtered_r = np.ma.masked_array(r, np.invert(mask_r)) #inverting mask since np.ma.masked_array() does not show elements having True value in mask\n",
    "print(filtered_r)"
   ],
   "id": "8fc7a43e3cf81b30",
   "outputs": [
    {
     "name": "stdout",
     "output_type": "stream",
     "text": [
      "[[False  True  True  True]\n",
      " [False  True False  True]\n",
      " [False False False False]\n",
      " [False  True  True False]\n",
      " [ True False False False]]\n",
      "[[-- 53 66 59]\n",
      " [-- 83 -- 63]\n",
      " [-- -- -- --]\n",
      " [-- 60 88 --]\n",
      " [88 -- -- --]]\n"
     ]
    }
   ],
   "execution_count": 20
  },
  {
   "metadata": {},
   "cell_type": "markdown",
   "source": [
    "**PART 3** <br>\n",
    "Printing first 100 elements of fibonacci series"
   ],
   "id": "40d41b4eb11a744c"
  },
  {
   "metadata": {
    "ExecuteTime": {
     "end_time": "2024-12-13T12:12:29.367797Z",
     "start_time": "2024-12-13T12:12:29.361436Z"
    }
   },
   "cell_type": "code",
   "source": [
    "a0 = 0\n",
    "a1 =1\n",
    "print(a0)\n",
    "print(a1)\n",
    "i= 1\n",
    "while i <99:\n",
    "    print(a0+a1)\n",
    "    a= a0\n",
    "    a0 =a1\n",
    "    a1 = a+a1\n",
    "    i+=1"
   ],
   "id": "20e20b2c1fd45d4d",
   "outputs": [
    {
     "name": "stdout",
     "output_type": "stream",
     "text": [
      "0\n",
      "1\n",
      "1\n",
      "2\n",
      "3\n",
      "5\n",
      "8\n",
      "13\n",
      "21\n",
      "34\n",
      "55\n",
      "89\n",
      "144\n",
      "233\n",
      "377\n",
      "610\n",
      "987\n",
      "1597\n",
      "2584\n",
      "4181\n",
      "6765\n",
      "10946\n",
      "17711\n",
      "28657\n",
      "46368\n",
      "75025\n",
      "121393\n",
      "196418\n",
      "317811\n",
      "514229\n",
      "832040\n",
      "1346269\n",
      "2178309\n",
      "3524578\n",
      "5702887\n",
      "9227465\n",
      "14930352\n",
      "24157817\n",
      "39088169\n",
      "63245986\n",
      "102334155\n",
      "165580141\n",
      "267914296\n",
      "433494437\n",
      "701408733\n",
      "1134903170\n",
      "1836311903\n",
      "2971215073\n",
      "4807526976\n",
      "7778742049\n",
      "12586269025\n",
      "20365011074\n",
      "32951280099\n",
      "53316291173\n",
      "86267571272\n",
      "139583862445\n",
      "225851433717\n",
      "365435296162\n",
      "591286729879\n",
      "956722026041\n",
      "1548008755920\n",
      "2504730781961\n",
      "4052739537881\n",
      "6557470319842\n",
      "10610209857723\n",
      "17167680177565\n",
      "27777890035288\n",
      "44945570212853\n",
      "72723460248141\n",
      "117669030460994\n",
      "190392490709135\n",
      "308061521170129\n",
      "498454011879264\n",
      "806515533049393\n",
      "1304969544928657\n",
      "2111485077978050\n",
      "3416454622906707\n",
      "5527939700884757\n",
      "8944394323791464\n",
      "14472334024676221\n",
      "23416728348467685\n",
      "37889062373143906\n",
      "61305790721611591\n",
      "99194853094755497\n",
      "160500643816367088\n",
      "259695496911122585\n",
      "420196140727489673\n",
      "679891637638612258\n",
      "1100087778366101931\n",
      "1779979416004714189\n",
      "2880067194370816120\n",
      "4660046610375530309\n",
      "7540113804746346429\n",
      "12200160415121876738\n",
      "19740274219868223167\n",
      "31940434634990099905\n",
      "51680708854858323072\n",
      "83621143489848422977\n",
      "135301852344706746049\n",
      "218922995834555169026\n"
     ]
    }
   ],
   "execution_count": 21
  },
  {
   "metadata": {},
   "cell_type": "markdown",
   "source": "Using Loops and Divisibility in Python",
   "id": "abe75b06c871e6e5"
  },
  {
   "metadata": {
    "ExecuteTime": {
     "end_time": "2024-12-13T12:12:29.431946Z",
     "start_time": "2024-12-13T12:12:29.427011Z"
    }
   },
   "cell_type": "code",
   "source": [
    "i =1\n",
    "while i <= 50:\n",
    "    if i%3 == 0 and i%5 == 0:\n",
    "        print('FizzBuzz')\n",
    "    elif i%3 == 0:\n",
    "        print('Fizz')\n",
    "    elif i%5 == 0:\n",
    "        print('Buzz')\n",
    "    i+=1"
   ],
   "id": "d7cefb96d6e001d8",
   "outputs": [
    {
     "name": "stdout",
     "output_type": "stream",
     "text": [
      "Fizz\n",
      "Buzz\n",
      "Fizz\n",
      "Fizz\n",
      "Buzz\n",
      "Fizz\n",
      "FizzBuzz\n",
      "Fizz\n",
      "Buzz\n",
      "Fizz\n",
      "Fizz\n",
      "Buzz\n",
      "Fizz\n",
      "FizzBuzz\n",
      "Fizz\n",
      "Buzz\n",
      "Fizz\n",
      "Fizz\n",
      "Buzz\n",
      "Fizz\n",
      "FizzBuzz\n",
      "Fizz\n",
      "Buzz\n"
     ]
    }
   ],
   "execution_count": 22
  },
  {
   "metadata": {},
   "cell_type": "markdown",
   "source": [
    "Showing median of list of numbers given <br>\n",
    "Sample Input:\n",
    "`12 34 65 784 435`"
   ],
   "id": "e49f16be5a453cc5"
  },
  {
   "metadata": {
    "ExecuteTime": {
     "end_time": "2024-12-13T12:12:45.878962Z",
     "start_time": "2024-12-13T12:12:29.614134Z"
    }
   },
   "cell_type": "code",
   "source": [
    "p = [int(x) for x in input().split()]\n",
    "p = np.array(p)\n",
    "p = np.sort(p)\n",
    "m_i = int(len(p)/2)\n",
    "\n",
    "if len(p) % 2 == 0 :\n",
    "    print((p[m_i -1] + p[m_i])/2)\n",
    "else:\n",
    "    print(p[m_i])"
   ],
   "id": "9ba7d4123dfc0cca",
   "outputs": [
    {
     "name": "stdout",
     "output_type": "stream",
     "text": [
      "65\n"
     ]
    }
   ],
   "execution_count": 23
  },
  {
   "metadata": {},
   "cell_type": "markdown",
   "source": [
    "Calculating average of variable number of given numbers <br>\n",
    "Sample Input: `12 34 65 784 435`"
   ],
   "id": "d2c804229f41c0e"
  },
  {
   "metadata": {
    "ExecuteTime": {
     "end_time": "2024-12-13T12:12:50.158636Z",
     "start_time": "2024-12-13T12:12:46.008530Z"
    }
   },
   "cell_type": "code",
   "source": [
    "sum = 0\n",
    "n = 0\n",
    "for x in input().split():\n",
    "    sum += int(x)\n",
    "    n+=1\n",
    "if n !=0:\n",
    "    avg = sum/n\n",
    "    print(avg)\n",
    "else:\n",
    "    print('ERROR: DIVISION BY ZERO')"
   ],
   "id": "cd2e989fe8e960af",
   "outputs": [
    {
     "name": "stdout",
     "output_type": "stream",
     "text": [
      "266.0\n"
     ]
    }
   ],
   "execution_count": 24
  },
  {
   "metadata": {},
   "cell_type": "markdown",
   "source": [
    "**PART 4** <br>\n",
    "Generating a random 3D array and swapping two of its axes using `numpy.swapaxes()`"
   ],
   "id": "13410b9e6b191251"
  },
  {
   "metadata": {
    "ExecuteTime": {
     "end_time": "2024-12-13T12:12:50.250860Z",
     "start_time": "2024-12-13T12:12:50.242596Z"
    }
   },
   "cell_type": "code",
   "source": [
    "arr3d = rng.integers(0, 100, size= (5,6,7))\n",
    "print(arr3d)\n",
    "s_arr3d = np.swapaxes(arr3d,1,2)\n",
    "print('Swapped Array:\\n',s_arr3d)"
   ],
   "id": "463ffebb260d5a68",
   "outputs": [
    {
     "name": "stdout",
     "output_type": "stream",
     "text": [
      "[[[82 25 68 59 70 34 47]\n",
      "  [95 46 32 80 43 37 13]\n",
      "  [41  8 54 82  7 29 71]\n",
      "  [37 54 77 16 57 38 82]\n",
      "  [53 18 69 17 78 10 82]\n",
      "  [98 85 28 26 47 37  4]]\n",
      "\n",
      " [[66 93  2 39 63  7 29]\n",
      "  [31  0 36 34 74 80 69]\n",
      "  [52  6 93 61 58 27 41]\n",
      "  [15  3 17  7 32  1 50]\n",
      "  [55 29 85  5 21 67 48]\n",
      "  [35 71 16 35 61 51 76]]\n",
      "\n",
      " [[27 55 75 32 14 71 31]\n",
      "  [50 59 13 68 62 95 97]\n",
      "  [26 62 14 30 36 23 76]\n",
      "  [54 24 67 68 66  9 62]\n",
      "  [50 55 96 68 32 68 81]\n",
      "  [71 61 49 22 74 25 60]]\n",
      "\n",
      " [[39  7 79 42 20 32 58]\n",
      "  [99 78 19 95 54 94 53]\n",
      "  [ 7 67 39 94 89 43 92]\n",
      "  [ 4 60 17 23 49 27 71]\n",
      "  [85 63 39  2 79 12 37]\n",
      "  [27  0 37 94 36 13 30]]\n",
      "\n",
      " [[26 77 42 68 49 25 81]\n",
      "  [67 16 39 32 40 66 95]\n",
      "  [57 77 50 12 35 35 92]\n",
      "  [55 82 28 23 49 46 74]\n",
      "  [83 11 50 25 87 26 69]\n",
      "  [51 10 38 40 20 29 61]]]\n",
      "Swapped Array:\n",
      " [[[82 95 41 37 53 98]\n",
      "  [25 46  8 54 18 85]\n",
      "  [68 32 54 77 69 28]\n",
      "  [59 80 82 16 17 26]\n",
      "  [70 43  7 57 78 47]\n",
      "  [34 37 29 38 10 37]\n",
      "  [47 13 71 82 82  4]]\n",
      "\n",
      " [[66 31 52 15 55 35]\n",
      "  [93  0  6  3 29 71]\n",
      "  [ 2 36 93 17 85 16]\n",
      "  [39 34 61  7  5 35]\n",
      "  [63 74 58 32 21 61]\n",
      "  [ 7 80 27  1 67 51]\n",
      "  [29 69 41 50 48 76]]\n",
      "\n",
      " [[27 50 26 54 50 71]\n",
      "  [55 59 62 24 55 61]\n",
      "  [75 13 14 67 96 49]\n",
      "  [32 68 30 68 68 22]\n",
      "  [14 62 36 66 32 74]\n",
      "  [71 95 23  9 68 25]\n",
      "  [31 97 76 62 81 60]]\n",
      "\n",
      " [[39 99  7  4 85 27]\n",
      "  [ 7 78 67 60 63  0]\n",
      "  [79 19 39 17 39 37]\n",
      "  [42 95 94 23  2 94]\n",
      "  [20 54 89 49 79 36]\n",
      "  [32 94 43 27 12 13]\n",
      "  [58 53 92 71 37 30]]\n",
      "\n",
      " [[26 67 57 55 83 51]\n",
      "  [77 16 77 82 11 10]\n",
      "  [42 39 50 28 50 38]\n",
      "  [68 32 12 23 25 40]\n",
      "  [49 40 35 49 87 20]\n",
      "  [25 66 35 46 26 29]\n",
      "  [81 95 92 74 69 61]]]\n"
     ]
    }
   ],
   "execution_count": 25
  },
  {
   "metadata": {},
   "cell_type": "markdown",
   "source": "Calculating sum of 3D array along any axis ",
   "id": "9c2116c2b98447ab"
  },
  {
   "metadata": {
    "ExecuteTime": {
     "end_time": "2024-12-13T12:12:50.337134Z",
     "start_time": "2024-12-13T12:12:50.331701Z"
    }
   },
   "cell_type": "code",
   "source": [
    "sum = np.sum(arr3d, axis=0)\n",
    "print(sum)"
   ],
   "id": "59f2ca2c7a812a99",
   "outputs": [
    {
     "name": "stdout",
     "output_type": "stream",
     "text": [
      "[[240 257 266 240 216 169 246]\n",
      " [342 199 139 309 273 372 327]\n",
      " [183 220 250 279 225 157 372]\n",
      " [165 223 206 137 253 121 339]\n",
      " [326 176 339 117 297 183 317]\n",
      " [282 227 168 217 238 155 231]]\n"
     ]
    }
   ],
   "execution_count": 26
  },
  {
   "metadata": {},
   "cell_type": "markdown",
   "source": "Generating a 2D array and 1D array using broadcasting add both the arrays",
   "id": "710c72c38d2a124"
  },
  {
   "metadata": {
    "ExecuteTime": {
     "end_time": "2024-12-13T12:12:50.426845Z",
     "start_time": "2024-12-13T12:12:50.421718Z"
    }
   },
   "cell_type": "code",
   "source": [
    "arr2d = rng.integers(0, 100, size= (6,7))\n",
    "r_array = rng.integers(0, 100, size=7) #Of size 7 for dimension matching\n",
    "print('2D array:\\n', arr2d)\n",
    "print('1D array:\\n', r_array)\n",
    "sum = arr2d + r_array\n",
    "print('Array Sum:\\n', sum)"
   ],
   "id": "70c0d8f3cca3d777",
   "outputs": [
    {
     "name": "stdout",
     "output_type": "stream",
     "text": [
      "2D array:\n",
      " [[97 73 61 49 15 47 62]\n",
      " [39 87 45 81 87 70  9]\n",
      " [67 31 63 88 71 35 95]\n",
      " [31 60 19 79 95 55 26]\n",
      " [81 86 74 22 63 71 40]\n",
      " [97 21 70 24 84 63 69]]\n",
      "1D array:\n",
      " [43 50 42 48 86 51 70]\n",
      "Array Sum:\n",
      " [[140 123 103  97 101  98 132]\n",
      " [ 82 137  87 129 173 121  79]\n",
      " [110  81 105 136 157  86 165]\n",
      " [ 74 110  61 127 181 106  96]\n",
      " [124 136 116  70 149 122 110]\n",
      " [140  71 112  72 170 114 139]]\n"
     ]
    }
   ],
   "execution_count": 27
  }
 ],
 "metadata": {
  "kernelspec": {
   "display_name": "Python 3",
   "language": "python",
   "name": "python3"
  },
  "language_info": {
   "codemirror_mode": {
    "name": "ipython",
    "version": 2
   },
   "file_extension": ".py",
   "mimetype": "text/x-python",
   "name": "python",
   "nbconvert_exporter": "python",
   "pygments_lexer": "ipython2",
   "version": "2.7.6"
  }
 },
 "nbformat": 4,
 "nbformat_minor": 5
}
