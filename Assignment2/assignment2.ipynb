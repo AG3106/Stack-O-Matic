{
 "cells": [
  {
   "metadata": {},
   "cell_type": "markdown",
   "source": [
    "**Assignment 2 Solutions** <br>\n",
    "Importing Required Libraries"
   ],
   "id": "911106edc732d7c5"
  },
  {
   "cell_type": "code",
   "id": "initial_id",
   "metadata": {
    "collapsed": true,
    "ExecuteTime": {
     "end_time": "2024-12-14T14:46:28.150989Z",
     "start_time": "2024-12-14T14:46:28.149065Z"
    }
   },
   "source": [
    "import numpy as np\n",
    "import pandas as pd\n",
    "import matplotlib.pyplot as plt"
   ],
   "outputs": [],
   "execution_count": 300
  },
  {
   "metadata": {},
   "cell_type": "markdown",
   "source": "Loading the dataset",
   "id": "8fc3786692bf6c0d"
  },
  {
   "metadata": {
    "ExecuteTime": {
     "end_time": "2024-12-14T14:46:28.197231Z",
     "start_time": "2024-12-14T14:46:28.194183Z"
    }
   },
   "cell_type": "code",
   "source": [
    "df = pd.read_csv('./extended_salary_data.csv')\n",
    "m, n = df.shape\n",
    "df.insert(0, column='Intercept', value=np.ones(m)) #adding a column of ones for constant in hypothesis function"
   ],
   "id": "f196a646f0800026",
   "outputs": [],
   "execution_count": 301
  },
  {
   "metadata": {},
   "cell_type": "markdown",
   "source": "Creating x, y for regression model",
   "id": "1fadc989de6df08b"
  },
  {
   "metadata": {
    "ExecuteTime": {
     "end_time": "2024-12-14T14:46:28.243313Z",
     "start_time": "2024-12-14T14:46:28.240299Z"
    }
   },
   "cell_type": "code",
   "source": [
    "x = np.array(df.iloc[:, :-1].values)\n",
    "y = np.array(df.iloc[:, -1].values)"
   ],
   "id": "6c1ad36615863e41",
   "outputs": [],
   "execution_count": 302
  },
  {
   "metadata": {},
   "cell_type": "markdown",
   "source": "Plotting y vs x",
   "id": "e9c818742ad92806"
  },
  {
   "metadata": {
    "ExecuteTime": {
     "end_time": "2024-12-15T11:10:17.824904Z",
     "start_time": "2024-12-15T11:10:17.719331Z"
    }
   },
   "cell_type": "code",
   "source": [
    "plt.plot(x[:,1], y, 'bx', linewidth=2)\n",
    "plt.xlabel('Years of Experience')\n",
    "plt.ylabel('Salary')\n",
    "plt.show()"
   ],
   "id": "f9655c622f5753ac",
   "outputs": [
    {
     "data": {
      "text/plain": [
       "<Figure size 640x480 with 1 Axes>"
      ],
      "image/png": "[encoded data removed]"
     },
     "metadata": {},
     "output_type": "display_data"
    }
   ],
   "execution_count": 325
  },
  {
   "metadata": {},
   "cell_type": "markdown",
   "source": "Statistics of dataset",
   "id": "7dad520e6efe68b1"
  },
  {
   "metadata": {
    "ExecuteTime": {
     "end_time": "2024-12-14T14:46:28.375041Z",
     "start_time": "2024-12-14T14:46:28.366937Z"
    }
   },
   "cell_type": "code",
   "source": "df.describe()",
   "id": "a60f48e20fb70792",
   "outputs": [
    {
     "data": {
      "text/plain": [
       "       Intercept  YearsExperience        Salary\n",
       "count       50.0        50.000000      50.00000\n",
       "mean         1.0         9.480000   77370.54740\n",
       "std          0.0         5.485491   28298.92442\n",
       "min          1.0         1.400000   33048.80000\n",
       "25%          1.0         4.500000   53861.88000\n",
       "50%          1.0         9.300000   78598.65000\n",
       "75%          1.0        13.350000   95356.22500\n",
       "max          1.0        19.400000  140646.44000"
      ],
      "text/html": [
       "<div>\n",
       "<style scoped>\n",
       "    .dataframe tbody tr th:only-of-type {\n",
       "        vertical-align: middle;\n",
       "    }\n",
       "\n",
       "    .dataframe tbody tr th {\n",
       "        vertical-align: top;\n",
       "    }\n",
       "\n",
       "    .dataframe thead th {\n",
       "        text-align: right;\n",
       "    }\n",
       "</style>\n",
       "<table border=\"1\" class=\"dataframe\">\n",
       "  <thead>\n",
       "    <tr style=\"text-align: right;\">\n",
       "      <th></th>\n",
       "      <th>Intercept</th>\n",
       "      <th>YearsExperience</th>\n",
       "      <th>Salary</th>\n",
       "    </tr>\n",
       "  </thead>\n",
       "  <tbody>\n",
       "    <tr>\n",
       "      <th>count</th>\n",
       "      <td>50.0</td>\n",
       "      <td>50.000000</td>\n",
       "      <td>50.00000</td>\n",
       "    </tr>\n",
       "    <tr>\n",
       "      <th>mean</th>\n",
       "      <td>1.0</td>\n",
       "      <td>9.480000</td>\n",
       "      <td>77370.54740</td>\n",
       "    </tr>\n",
       "    <tr>\n",
       "      <th>std</th>\n",
       "      <td>0.0</td>\n",
       "      <td>5.485491</td>\n",
       "      <td>28298.92442</td>\n",
       "    </tr>\n",
       "    <tr>\n",
       "      <th>min</th>\n",
       "      <td>1.0</td>\n",
       "      <td>1.400000</td>\n",
       "      <td>33048.80000</td>\n",
       "    </tr>\n",
       "    <tr>\n",
       "      <th>25%</th>\n",
       "      <td>1.0</td>\n",
       "      <td>4.500000</td>\n",
       "      <td>53861.88000</td>\n",
       "    </tr>\n",
       "    <tr>\n",
       "      <th>50%</th>\n",
       "      <td>1.0</td>\n",
       "      <td>9.300000</td>\n",
       "      <td>78598.65000</td>\n",
       "    </tr>\n",
       "    <tr>\n",
       "      <th>75%</th>\n",
       "      <td>1.0</td>\n",
       "      <td>13.350000</td>\n",
       "      <td>95356.22500</td>\n",
       "    </tr>\n",
       "    <tr>\n",
       "      <th>max</th>\n",
       "      <td>1.0</td>\n",
       "      <td>19.400000</td>\n",
       "      <td>140646.44000</td>\n",
       "    </tr>\n",
       "  </tbody>\n",
       "</table>\n",
       "</div>"
      ]
     },
     "execution_count": 304,
     "metadata": {},
     "output_type": "execute_result"
    }
   ],
   "execution_count": 304
  },
  {
   "metadata": {},
   "cell_type": "markdown",
   "source": "Splitting Dataset for training and validation",
   "id": "4bc2c66511338884"
  },
  {
   "metadata": {},
   "cell_type": "code",
   "source": [
    "x_train, x_valid = np.split(x, [int(0.8*len(x))])\n",
    "y_train, y_valid = np.split(y, [int(0.8*len(y))])"
   ],
   "id": "c163eb83d52cf41d",
   "outputs": [],
   "execution_count": null
  },
  {
   "metadata": {},
   "cell_type": "markdown",
   "source": "Defining Linear Regression Model",
   "id": "8d8ad7b7154f4ab4"
  },
  {
   "metadata": {
    "ExecuteTime": {
     "end_time": "2024-12-14T14:46:28.487382Z",
     "start_time": "2024-12-14T14:46:28.482708Z"
    }
   },
   "cell_type": "code",
   "source": [
    "class LinearRegression:\n",
    "    def __init__(self, theta0 = None, eps = 1e-5, a = 3e-5):\n",
    "        self.theta = theta0\n",
    "        self.eps = eps\n",
    "        self.a = a\n",
    "    def fit(self, x, y):\n",
    "        m, n = x.shape\n",
    "        self.theta = np.zeros(n)\n",
    "        while True:\n",
    "            oldtheta = np.copy(self.theta)\n",
    "            self.theta += self.a * np.dot((y - np.dot(x, self.theta)), x) /m\n",
    "            if np.linalg.norm(self.theta - oldtheta, ord=1) < self.eps:\n",
    "                break\n",
    "    def predict(self, x):\n",
    "        return np.dot(x, self.theta)"
   ],
   "id": "2619a2c78b026b53",
   "outputs": [],
   "execution_count": 306
  },
  {
   "metadata": {},
   "cell_type": "markdown",
   "source": "Creating instance of model and fitting it on training dataset",
   "id": "d358e20e37bc272a"
  },
  {
   "metadata": {},
   "cell_type": "code",
   "source": [
    "model = LinearRegression()\n",
    "model.fit(x_train, y_train)"
   ],
   "id": "82e90262d6d07ef1",
   "outputs": [],
   "execution_count": null
  },
  {
   "metadata": {},
   "cell_type": "markdown",
   "source": "Final Theta/Weights of Model",
   "id": "92f138f7dc4ddf01"
  },
  {
   "metadata": {
    "ExecuteTime": {
     "end_time": "2024-12-14T14:46:36.561745Z",
     "start_time": "2024-12-14T14:46:36.557708Z"
    }
   },
   "cell_type": "code",
   "source": "print(model.theta)",
   "id": "79f62aee88597256",
   "outputs": [
    {
     "name": "stdout",
     "output_type": "stream",
     "text": [
      "[29575.02667529  5013.87030258]\n"
     ]
    }
   ],
   "execution_count": 308
  },
  {
   "metadata": {},
   "cell_type": "markdown",
   "source": "Calculating MSE and MAE",
   "id": "688e40f7b57cf918"
  },
  {
   "metadata": {
    "ExecuteTime": {
     "end_time": "2024-12-14T14:46:36.683974Z",
     "start_time": "2024-12-14T14:46:36.678180Z"
    }
   },
   "cell_type": "code",
   "source": [
    "mse_valid = (np.linalg.norm(y_valid - model.predict(x_valid), ord=2)) ** 2 / m\n",
    "mae_valid = np.linalg.norm(y_valid - model.predict(x_valid), ord=1) /m\n",
    "mae_train = np.linalg.norm(y_train - model.predict(x_train), ord=1) / m\n",
    "mse_train = (np.linalg.norm(y_train - model.predict(x_train), ord=2)) ** 2 /m\n",
    "print('MSE on valid dataset', mse_valid)\n",
    "print('MAE on valid dataset', mae_valid)\n",
    "print('MSE on train dataset', mse_train)\n",
    "print('MAE on train dataset', mae_train)"
   ],
   "id": "cfb43c5ed1568286",
   "outputs": [
    {
     "name": "stdout",
     "output_type": "stream",
     "text": [
      "MSE on valid dataset 10292311.094812317\n",
      "MAE on valid dataset 1239.097049534531\n",
      "MSE on train dataset 72595919.45533374\n",
      "MAE on train dataset 6030.438049683361\n"
     ]
    }
   ],
   "execution_count": 309
  },
  {
   "metadata": {},
   "cell_type": "markdown",
   "source": "Plotting regression line over dataset",
   "id": "127e9923f41cd4f"
  },
  {
   "metadata": {
    "ExecuteTime": {
     "end_time": "2024-12-15T11:08:45.190814Z",
     "start_time": "2024-12-15T11:08:45.084761Z"
    }
   },
   "cell_type": "code",
   "source": [
    "plt.plot(x[:,1], y, 'bx', linewidth=2)\n",
    "plt.xlabel('Years of Experience')\n",
    "plt.ylabel('Salary')\n",
    "plt.axline((0, model.theta[0]), slope=model.theta[1] , linewidth=4, color='r')\n",
    "plt.show()"
   ],
   "id": "5cec5829793f0213",
   "outputs": [
    {
     "data": {
      "text/plain": [
       "<Figure size 640x480 with 1 Axes>"
      ],
      "image/png": "[encoded data removed]"
     },
     "metadata": {},
     "output_type": "display_data"
    }
   ],
   "execution_count": 323
  },
  {
   "metadata": {},
   "cell_type": "markdown",
   "source": "**BONUS**",
   "id": "9e476cf1f9f52e71"
  },
  {
   "metadata": {
    "ExecuteTime": {
     "end_time": "2024-12-14T14:46:36.820026Z",
     "start_time": "2024-12-14T14:46:36.815920Z"
    }
   },
   "cell_type": "code",
   "source": [
    "df = pd.read_csv('./extended_salary_data.csv')\n",
    "m, n = df.shape\n",
    "df.insert(0, column='Intercept', value=np.ones(m))"
   ],
   "id": "6a0fb52f14fa499c",
   "outputs": [],
   "execution_count": 311
  },
  {
   "metadata": {},
   "cell_type": "markdown",
   "source": "Adding new column of synthetic feature",
   "id": "d2e464399095cdcb"
  },
  {
   "metadata": {
    "ExecuteTime": {
     "end_time": "2024-12-14T14:46:36.872001Z",
     "start_time": "2024-12-14T14:46:36.867201Z"
    }
   },
   "cell_type": "code",
   "source": "df.insert(2, column='NumProjectsCompleted', value=np.array((df['YearsExperience'])/2.0 + 0.5).astype(int))",
   "id": "85b5f83519514913",
   "outputs": [],
   "execution_count": 312
  },
  {
   "metadata": {},
   "cell_type": "markdown",
   "source": "Adding random noise to data",
   "id": "9cded4d25a3bf4f4"
  },
  {
   "metadata": {
    "ExecuteTime": {
     "end_time": "2024-12-14T14:46:36.918385Z",
     "start_time": "2024-12-14T14:46:36.915748Z"
    }
   },
   "cell_type": "code",
   "source": [
    "#adding poisson noise since Number of Projects completed should be integer\n",
    "noise = np.random.poisson(1, m)\n",
    "df['NumProjectsCompleted'] += noise"
   ],
   "id": "e276a7be3e50fdfc",
   "outputs": [],
   "execution_count": 313
  },
  {
   "metadata": {},
   "cell_type": "markdown",
   "source": "New Dataset",
   "id": "bf00103ed7dc921d"
  },
  {
   "metadata": {
    "ExecuteTime": {
     "end_time": "2024-12-14T14:46:36.972424Z",
     "start_time": "2024-12-14T14:46:36.963097Z"
    }
   },
   "cell_type": "code",
   "source": "df",
   "id": "bb55665a8e441eba",
   "outputs": [
    {
     "data": {
      "text/plain": [
       "    Intercept  YearsExperience  NumProjectsCompleted     Salary\n",
       "0         1.0              8.1                     4   77884.67\n",
       "1         1.0             19.1                    10  127213.68\n",
       "2         1.0             14.9                     7  103343.52\n",
       "3         1.0             12.4                     8   88988.96\n",
       "4         1.0              4.0                     3   35214.78\n",
       "5         1.0              4.0                     3   42801.56\n",
       "6         1.0              2.1                     2   35893.61\n",
       "7         1.0             17.5                    11  128071.22\n",
       "8         1.0             12.4                     7   95436.18\n",
       "9         1.0             14.5                     9   84869.60\n",
       "10        1.0              1.4                     3   40240.84\n",
       "11        1.0             19.4                    10  123149.18\n",
       "12        1.0             16.8                     9  107230.78\n",
       "13        1.0              5.0                     4   61116.76\n",
       "14        1.0              4.5                     3   62810.00\n",
       "15        1.0              4.5                     2   61812.80\n",
       "16        1.0              6.8                     4   55607.82\n",
       "17        1.0             11.0                     6   81907.88\n",
       "18        1.0              9.2                     5   79312.63\n",
       "19        1.0              6.5                     3   72255.45\n",
       "20        1.0             12.6                     6   88208.26\n",
       "21        1.0              3.7                     3   46643.41\n",
       "22        1.0              6.6                     3   51936.65\n",
       "23        1.0              8.0                     6   58037.93\n",
       "24        1.0              9.7                     8   86625.26\n",
       "25        1.0             15.9                     8  123062.40\n",
       "26        1.0              4.8                     2   53279.90\n",
       "27        1.0             10.8                     7   94035.33\n",
       "28        1.0             12.3                     7   95116.36\n",
       "29        1.0              1.9                     3   33048.80\n",
       "30        1.0             12.5                     9   96113.96\n",
       "31        1.0              4.2                     2   66380.37\n",
       "32        1.0              2.2                     1   40641.74\n",
       "33        1.0             19.0                    10  140646.44\n",
       "34        1.0             19.3                    12  100302.55\n",
       "35        1.0             16.4                     8  120219.03\n",
       "36        1.0              6.8                     4   64870.47\n",
       "37        1.0              2.9                     2   41509.93\n",
       "38        1.0             14.0                     7  100917.61\n",
       "39        1.0              9.4                     5   57124.31\n",
       "40        1.0              3.3                     2   44303.28\n",
       "41        1.0             10.4                     6   85571.13\n",
       "42        1.0              1.7                     1   53278.94\n",
       "43        1.0             18.3                    11  116317.30\n",
       "44        1.0              5.9                     3   51415.06\n",
       "45        1.0             13.6                     7   92982.43\n",
       "46        1.0              6.9                     3   73654.02\n",
       "47        1.0             10.9                     5   87787.51\n",
       "48        1.0             11.4                     7   81702.40\n",
       "49        1.0              4.5                     2   57632.67"
      ],
      "text/html": [
       "<div>\n",
       "<style scoped>\n",
       "    .dataframe tbody tr th:only-of-type {\n",
       "        vertical-align: middle;\n",
       "    }\n",
       "\n",
       "    .dataframe tbody tr th {\n",
       "        vertical-align: top;\n",
       "    }\n",
       "\n",
       "    .dataframe thead th {\n",
       "        text-align: right;\n",
       "    }\n",
       "</style>\n",
       "<table border=\"1\" class=\"dataframe\">\n",
       "  <thead>\n",
       "    <tr style=\"text-align: right;\">\n",
       "      <th></th>\n",
       "      <th>Intercept</th>\n",
       "      <th>YearsExperience</th>\n",
       "      <th>NumProjectsCompleted</th>\n",
       "      <th>Salary</th>\n",
       "    </tr>\n",
       "  </thead>\n",
       "  <tbody>\n",
       "    <tr>\n",
       "      <th>0</th>\n",
       "      <td>1.0</td>\n",
       "      <td>8.1</td>\n",
       "      <td>4</td>\n",
       "      <td>77884.67</td>\n",
       "    </tr>\n",
       "    <tr>\n",
       "      <th>1</th>\n",
       "      <td>1.0</td>\n",
       "      <td>19.1</td>\n",
       "      <td>10</td>\n",
       "      <td>127213.68</td>\n",
       "    </tr>\n",
       "    <tr>\n",
       "      <th>2</th>\n",
       "      <td>1.0</td>\n",
       "      <td>14.9</td>\n",
       "      <td>7</td>\n",
       "      <td>103343.52</td>\n",
       "    </tr>\n",
       "    <tr>\n",
       "      <th>3</th>\n",
       "      <td>1.0</td>\n",
       "      <td>12.4</td>\n",
       "      <td>8</td>\n",
       "      <td>88988.96</td>\n",
       "    </tr>\n",
       "    <tr>\n",
       "      <th>4</th>\n",
       "      <td>1.0</td>\n",
       "      <td>4.0</td>\n",
       "      <td>3</td>\n",
       "      <td>35214.78</td>\n",
       "    </tr>\n",
       "    <tr>\n",
       "      <th>5</th>\n",
       "      <td>1.0</td>\n",
       "      <td>4.0</td>\n",
       "      <td>3</td>\n",
       "      <td>42801.56</td>\n",
       "    </tr>\n",
       "    <tr>\n",
       "      <th>6</th>\n",
       "      <td>1.0</td>\n",
       "      <td>2.1</td>\n",
       "      <td>2</td>\n",
       "      <td>35893.61</td>\n",
       "    </tr>\n",
       "    <tr>\n",
       "      <th>7</th>\n",
       "      <td>1.0</td>\n",
       "      <td>17.5</td>\n",
       "      <td>11</td>\n",
       "      <td>128071.22</td>\n",
       "    </tr>\n",
       "    <tr>\n",
       "      <th>8</th>\n",
       "      <td>1.0</td>\n",
       "      <td>12.4</td>\n",
       "      <td>7</td>\n",
       "      <td>95436.18</td>\n",
       "    </tr>\n",
       "    <tr>\n",
       "      <th>9</th>\n",
       "      <td>1.0</td>\n",
       "      <td>14.5</td>\n",
       "      <td>9</td>\n",
       "      <td>84869.60</td>\n",
       "    </tr>\n",
       "    <tr>\n",
       "      <th>10</th>\n",
       "      <td>1.0</td>\n",
       "      <td>1.4</td>\n",
       "      <td>3</td>\n",
       "      <td>40240.84</td>\n",
       "    </tr>\n",
       "    <tr>\n",
       "      <th>11</th>\n",
       "      <td>1.0</td>\n",
       "      <td>19.4</td>\n",
       "      <td>10</td>\n",
       "      <td>123149.18</td>\n",
       "    </tr>\n",
       "    <tr>\n",
       "      <th>12</th>\n",
       "      <td>1.0</td>\n",
       "      <td>16.8</td>\n",
       "      <td>9</td>\n",
       "      <td>107230.78</td>\n",
       "    </tr>\n",
       "    <tr>\n",
       "      <th>13</th>\n",
       "      <td>1.0</td>\n",
       "      <td>5.0</td>\n",
       "      <td>4</td>\n",
       "      <td>61116.76</td>\n",
       "    </tr>\n",
       "    <tr>\n",
       "      <th>14</th>\n",
       "      <td>1.0</td>\n",
       "      <td>4.5</td>\n",
       "      <td>3</td>\n",
       "      <td>62810.00</td>\n",
       "    </tr>\n",
       "    <tr>\n",
       "      <th>15</th>\n",
       "      <td>1.0</td>\n",
       "      <td>4.5</td>\n",
       "      <td>2</td>\n",
       "      <td>61812.80</td>\n",
       "    </tr>\n",
       "    <tr>\n",
       "      <th>16</th>\n",
       "      <td>1.0</td>\n",
       "      <td>6.8</td>\n",
       "      <td>4</td>\n",
       "      <td>55607.82</td>\n",
       "    </tr>\n",
       "    <tr>\n",
       "      <th>17</th>\n",
       "      <td>1.0</td>\n",
       "      <td>11.0</td>\n",
       "      <td>6</td>\n",
       "      <td>81907.88</td>\n",
       "    </tr>\n",
       "    <tr>\n",
       "      <th>18</th>\n",
       "      <td>1.0</td>\n",
       "      <td>9.2</td>\n",
       "      <td>5</td>\n",
       "      <td>79312.63</td>\n",
       "    </tr>\n",
       "    <tr>\n",
       "      <th>19</th>\n",
       "      <td>1.0</td>\n",
       "      <td>6.5</td>\n",
       "      <td>3</td>\n",
       "      <td>72255.45</td>\n",
       "    </tr>\n",
       "    <tr>\n",
       "      <th>20</th>\n",
       "      <td>1.0</td>\n",
       "      <td>12.6</td>\n",
       "      <td>6</td>\n",
       "      <td>88208.26</td>\n",
       "    </tr>\n",
       "    <tr>\n",
       "      <th>21</th>\n",
       "      <td>1.0</td>\n",
       "      <td>3.7</td>\n",
       "      <td>3</td>\n",
       "      <td>46643.41</td>\n",
       "    </tr>\n",
       "    <tr>\n",
       "      <th>22</th>\n",
       "      <td>1.0</td>\n",
       "      <td>6.6</td>\n",
       "      <td>3</td>\n",
       "      <td>51936.65</td>\n",
       "    </tr>\n",
       "    <tr>\n",
       "      <th>23</th>\n",
       "      <td>1.0</td>\n",
       "      <td>8.0</td>\n",
       "      <td>6</td>\n",
       "      <td>58037.93</td>\n",
       "    </tr>\n",
       "    <tr>\n",
       "      <th>24</th>\n",
       "      <td>1.0</td>\n",
       "      <td>9.7</td>\n",
       "      <td>8</td>\n",
       "      <td>86625.26</td>\n",
       "    </tr>\n",
       "    <tr>\n",
       "      <th>25</th>\n",
       "      <td>1.0</td>\n",
       "      <td>15.9</td>\n",
       "      <td>8</td>\n",
       "      <td>123062.40</td>\n",
       "    </tr>\n",
       "    <tr>\n",
       "      <th>26</th>\n",
       "      <td>1.0</td>\n",
       "      <td>4.8</td>\n",
       "      <td>2</td>\n",
       "      <td>53279.90</td>\n",
       "    </tr>\n",
       "    <tr>\n",
       "      <th>27</th>\n",
       "      <td>1.0</td>\n",
       "      <td>10.8</td>\n",
       "      <td>7</td>\n",
       "      <td>94035.33</td>\n",
       "    </tr>\n",
       "    <tr>\n",
       "      <th>28</th>\n",
       "      <td>1.0</td>\n",
       "      <td>12.3</td>\n",
       "      <td>7</td>\n",
       "      <td>95116.36</td>\n",
       "    </tr>\n",
       "    <tr>\n",
       "      <th>29</th>\n",
       "      <td>1.0</td>\n",
       "      <td>1.9</td>\n",
       "      <td>3</td>\n",
       "      <td>33048.80</td>\n",
       "    </tr>\n",
       "    <tr>\n",
       "      <th>30</th>\n",
       "      <td>1.0</td>\n",
       "      <td>12.5</td>\n",
       "      <td>9</td>\n",
       "      <td>96113.96</td>\n",
       "    </tr>\n",
       "    <tr>\n",
       "      <th>31</th>\n",
       "      <td>1.0</td>\n",
       "      <td>4.2</td>\n",
       "      <td>2</td>\n",
       "      <td>66380.37</td>\n",
       "    </tr>\n",
       "    <tr>\n",
       "      <th>32</th>\n",
       "      <td>1.0</td>\n",
       "      <td>2.2</td>\n",
       "      <td>1</td>\n",
       "      <td>40641.74</td>\n",
       "    </tr>\n",
       "    <tr>\n",
       "      <th>33</th>\n",
       "      <td>1.0</td>\n",
       "      <td>19.0</td>\n",
       "      <td>10</td>\n",
       "      <td>140646.44</td>\n",
       "    </tr>\n",
       "    <tr>\n",
       "      <th>34</th>\n",
       "      <td>1.0</td>\n",
       "      <td>19.3</td>\n",
       "      <td>12</td>\n",
       "      <td>100302.55</td>\n",
       "    </tr>\n",
       "    <tr>\n",
       "      <th>35</th>\n",
       "      <td>1.0</td>\n",
       "      <td>16.4</td>\n",
       "      <td>8</td>\n",
       "      <td>120219.03</td>\n",
       "    </tr>\n",
       "    <tr>\n",
       "      <th>36</th>\n",
       "      <td>1.0</td>\n",
       "      <td>6.8</td>\n",
       "      <td>4</td>\n",
       "      <td>64870.47</td>\n",
       "    </tr>\n",
       "    <tr>\n",
       "      <th>37</th>\n",
       "      <td>1.0</td>\n",
       "      <td>2.9</td>\n",
       "      <td>2</td>\n",
       "      <td>41509.93</td>\n",
       "    </tr>\n",
       "    <tr>\n",
       "      <th>38</th>\n",
       "      <td>1.0</td>\n",
       "      <td>14.0</td>\n",
       "      <td>7</td>\n",
       "      <td>100917.61</td>\n",
       "    </tr>\n",
       "    <tr>\n",
       "      <th>39</th>\n",
       "      <td>1.0</td>\n",
       "      <td>9.4</td>\n",
       "      <td>5</td>\n",
       "      <td>57124.31</td>\n",
       "    </tr>\n",
       "    <tr>\n",
       "      <th>40</th>\n",
       "      <td>1.0</td>\n",
       "      <td>3.3</td>\n",
       "      <td>2</td>\n",
       "      <td>44303.28</td>\n",
       "    </tr>\n",
       "    <tr>\n",
       "      <th>41</th>\n",
       "      <td>1.0</td>\n",
       "      <td>10.4</td>\n",
       "      <td>6</td>\n",
       "      <td>85571.13</td>\n",
       "    </tr>\n",
       "    <tr>\n",
       "      <th>42</th>\n",
       "      <td>1.0</td>\n",
       "      <td>1.7</td>\n",
       "      <td>1</td>\n",
       "      <td>53278.94</td>\n",
       "    </tr>\n",
       "    <tr>\n",
       "      <th>43</th>\n",
       "      <td>1.0</td>\n",
       "      <td>18.3</td>\n",
       "      <td>11</td>\n",
       "      <td>116317.30</td>\n",
       "    </tr>\n",
       "    <tr>\n",
       "      <th>44</th>\n",
       "      <td>1.0</td>\n",
       "      <td>5.9</td>\n",
       "      <td>3</td>\n",
       "      <td>51415.06</td>\n",
       "    </tr>\n",
       "    <tr>\n",
       "      <th>45</th>\n",
       "      <td>1.0</td>\n",
       "      <td>13.6</td>\n",
       "      <td>7</td>\n",
       "      <td>92982.43</td>\n",
       "    </tr>\n",
       "    <tr>\n",
       "      <th>46</th>\n",
       "      <td>1.0</td>\n",
       "      <td>6.9</td>\n",
       "      <td>3</td>\n",
       "      <td>73654.02</td>\n",
       "    </tr>\n",
       "    <tr>\n",
       "      <th>47</th>\n",
       "      <td>1.0</td>\n",
       "      <td>10.9</td>\n",
       "      <td>5</td>\n",
       "      <td>87787.51</td>\n",
       "    </tr>\n",
       "    <tr>\n",
       "      <th>48</th>\n",
       "      <td>1.0</td>\n",
       "      <td>11.4</td>\n",
       "      <td>7</td>\n",
       "      <td>81702.40</td>\n",
       "    </tr>\n",
       "    <tr>\n",
       "      <th>49</th>\n",
       "      <td>1.0</td>\n",
       "      <td>4.5</td>\n",
       "      <td>2</td>\n",
       "      <td>57632.67</td>\n",
       "    </tr>\n",
       "  </tbody>\n",
       "</table>\n",
       "</div>"
      ]
     },
     "execution_count": 314,
     "metadata": {},
     "output_type": "execute_result"
    }
   ],
   "execution_count": 314
  },
  {
   "metadata": {},
   "cell_type": "markdown",
   "source": "Creating x, y",
   "id": "2303382c72055251"
  },
  {
   "metadata": {
    "ExecuteTime": {
     "end_time": "2024-12-14T14:46:37.034065Z",
     "start_time": "2024-12-14T14:46:37.031765Z"
    }
   },
   "cell_type": "code",
   "source": [
    "x_new = np.array(df.iloc[:, :-1].values)\n",
    "y_new = np.array(df.iloc[:, -1].values)"
   ],
   "id": "65448d1e3096c3c9",
   "outputs": [],
   "execution_count": 315
  },
  {
   "metadata": {},
   "cell_type": "markdown",
   "source": "Plotting new column data against y",
   "id": "79485ee36090c99b"
  },
  {
   "metadata": {
    "ExecuteTime": {
     "end_time": "2024-12-15T11:10:03.454587Z",
     "start_time": "2024-12-15T11:10:03.347470Z"
    }
   },
   "cell_type": "code",
   "source": [
    "plt.plot(x_new[:,2], y_new, 'bx', linewidth=2)\n",
    "plt.xlabel('Number of Projects Completed')\n",
    "plt.ylabel('Salary')\n",
    "plt.show()"
   ],
   "id": "5fd999a529ba282e",
   "outputs": [
    {
     "data": {
      "text/plain": [
       "<Figure size 640x480 with 1 Axes>"
      ],
      "image/png": "[encoded data removed]"
     },
     "metadata": {},
     "output_type": "display_data"
    }
   ],
   "execution_count": 324
  },
  {
   "metadata": {
    "ExecuteTime": {
     "end_time": "2024-12-14T14:46:37.147877Z",
     "start_time": "2024-12-14T14:46:37.145940Z"
    }
   },
   "cell_type": "code",
   "source": [
    "x_train_new, x_valid_new = np.split(x_new, [int(0.8*len(x))])\n",
    "y_train_new, y_valid_new = np.split(y_new, [int(0.8*len(y))])"
   ],
   "id": "ca2009bc2726c356",
   "outputs": [],
   "execution_count": 317
  },
  {
   "metadata": {},
   "cell_type": "code",
   "source": [
    "model_new = LinearRegression()\n",
    "model_new.fit(x_train_new, y_train_new)"
   ],
   "id": "3519736213027006",
   "outputs": [],
   "execution_count": null
  },
  {
   "metadata": {
    "ExecuteTime": {
     "end_time": "2024-12-14T14:46:47.150850Z",
     "start_time": "2024-12-14T14:46:47.148599Z"
    }
   },
   "cell_type": "code",
   "source": "print(model_new.theta)",
   "id": "953c73dc62c270b3",
   "outputs": [
    {
     "name": "stdout",
     "output_type": "stream",
     "text": [
      "[30874.03057198  5855.06279535 -1670.72441023]\n"
     ]
    }
   ],
   "execution_count": 319
  },
  {
   "metadata": {
    "ExecuteTime": {
     "end_time": "2024-12-14T14:46:47.205775Z",
     "start_time": "2024-12-14T14:46:47.200969Z"
    }
   },
   "cell_type": "code",
   "source": [
    "mse_valid_new = (np.linalg.norm(y_valid - model_new.predict(x_valid_new), ord=2)) ** 2 / m\n",
    "mae_valid_new = np.linalg.norm(y_valid - model_new.predict(x_valid_new), ord=1) / m\n",
    "mae_train_new = np.linalg.norm(y_train - model_new.predict(x_train_new), ord=1) / m\n",
    "mse_train_new = (np.linalg.norm(y_train - model_new.predict(x_train_new), ord=2)) ** 2 / m\n",
    "print('MSE on valid dataset', mse_valid_new)\n",
    "print('MAE on valid dataset', mae_valid_new)\n",
    "print('MSE on train dataset', mse_train_new)\n",
    "print('MAE on train dataset', mae_train_new)"
   ],
   "id": "106b69a1542766be",
   "outputs": [
    {
     "name": "stdout",
     "output_type": "stream",
     "text": [
      "MSE on valid dataset 8702241.4704372\n",
      "MAE on valid dataset 1109.2203852554742\n",
      "MSE on train dataset 70605414.7099444\n",
      "MAE on train dataset 6092.964924116512\n"
     ]
    }
   ],
   "execution_count": 320
  },
  {
   "metadata": {},
   "cell_type": "markdown",
   "source": "Comparing Old model with New",
   "id": "a838b73995446ab"
  },
  {
   "metadata": {
    "ExecuteTime": {
     "end_time": "2024-12-14T14:46:47.275390Z",
     "start_time": "2024-12-14T14:46:47.271191Z"
    }
   },
   "cell_type": "code",
   "source": [
    "print(\"Changes:\")\n",
    "print('Change in MSE of Validation Dataset: ', (mse_valid - mse_valid_new))\n",
    "print('Change in MAE of Validation Dataset: ', (mae_valid - mae_valid_new))\n",
    "print('Change in MSE of Train Dataset: ', (mse_train - mse_train_new))\n",
    "print('Change in MAE of Train Dataset: ', (mae_train - mae_train_new))"
   ],
   "id": "54e2e6312cb0078",
   "outputs": [
    {
     "name": "stdout",
     "output_type": "stream",
     "text": [
      "Changes:\n",
      "Change in MSE of Validation Dataset:  1590069.624375116\n",
      "Change in MAE of Validation Dataset:  129.87666427905674\n",
      "Change in MSE of Train Dataset:  1990504.7453893423\n",
      "Change in MAE of Train Dataset:  -62.526874433150624\n"
     ]
    }
   ],
   "execution_count": 321
  },
  {
   "metadata": {},
   "cell_type": "markdown",
   "source": "",
   "id": "e19fc85e67ec13c4"
  }
 ],
 "metadata": {
  "kernelspec": {
   "display_name": "Python 3",
   "language": "python",
   "name": "python3"
  },
  "language_info": {
   "codemirror_mode": {
    "name": "ipython",
    "version": 2
   },
   "file_extension": ".py",
   "mimetype": "text/x-python",
   "name": "python",
   "nbconvert_exporter": "python",
   "pygments_lexer": "ipython2",
   "version": "2.7.6"
  }
 },
 "nbformat": 4,
 "nbformat_minor": 5
}
