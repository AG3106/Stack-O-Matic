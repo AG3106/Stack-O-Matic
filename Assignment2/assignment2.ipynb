{
 "cells": [
  {
   "cell_type": "code",
   "id": "initial_id",
   "metadata": {
    "collapsed": true,
    "ExecuteTime": {
     "end_time": "2024-12-12T18:51:26.268354Z",
     "start_time": "2024-12-12T18:51:26.266142Z"
    }
   },
   "source": [
    "import numpy as np\n",
    "import pandas as pd\n",
    "import matplotlib.pyplot as plt"
   ],
   "outputs": [],
   "execution_count": 80
  },
  {
   "metadata": {
    "ExecuteTime": {
     "end_time": "2024-12-12T19:35:55.218629Z",
     "start_time": "2024-12-12T19:35:55.212845Z"
    }
   },
   "cell_type": "code",
   "source": [
    "df = pd.read_csv('extended_salary_data.csv')\n",
    "m, n = df.shape\n",
    "df.insert(0, column='0', value=np.ones(m))"
   ],
   "id": "f196a646f0800026",
   "outputs": [],
   "execution_count": 153
  },
  {
   "metadata": {
    "ExecuteTime": {
     "end_time": "2024-12-12T19:22:01.113816Z",
     "start_time": "2024-12-12T19:22:01.109485Z"
    }
   },
   "cell_type": "code",
   "source": [
    "x = np.array(df.iloc[:, :-1].values)\n",
    "y = np.array(df.iloc[:, -1].values)"
   ],
   "id": "6c1ad36615863e41",
   "outputs": [],
   "execution_count": 125
  },
  {
   "metadata": {
    "ExecuteTime": {
     "end_time": "2024-12-12T18:57:29.500337Z",
     "start_time": "2024-12-12T18:57:29.442999Z"
    }
   },
   "cell_type": "code",
   "source": "plt.plot(x[:,1], y, 'bx', linewidth=2)",
   "id": "f9655c622f5753ac",
   "outputs": [
    {
     "data": {
      "text/plain": [
       "[<matplotlib.lines.Line2D at 0x778da1fb44a0>]"
      ]
     },
     "execution_count": 92,
     "metadata": {},
     "output_type": "execute_result"
    },
    {
     "data": {
      "text/plain": [
       "<Figure size 640x480 with 1 Axes>"
      ],
      "image/png": "[encoded data removed]"
     },
     "metadata": {},
     "output_type": "display_data"
    }
   ],
   "execution_count": 92
  },
  {
   "metadata": {
    "ExecuteTime": {
     "end_time": "2024-12-12T19:00:18.837011Z",
     "start_time": "2024-12-12T19:00:18.822836Z"
    }
   },
   "cell_type": "code",
   "source": "df.describe()",
   "id": "a60f48e20fb70792",
   "outputs": [
    {
     "data": {
      "text/plain": [
       "          0  YearsExperience        Salary\n",
       "count  50.0        50.000000      50.00000\n",
       "mean    1.0         9.480000   77370.54740\n",
       "std     0.0         5.485491   28298.92442\n",
       "min     1.0         1.400000   33048.80000\n",
       "25%     1.0         4.500000   53861.88000\n",
       "50%     1.0         9.300000   78598.65000\n",
       "75%     1.0        13.350000   95356.22500\n",
       "max     1.0        19.400000  140646.44000"
      ],
      "text/html": [
       "<div>\n",
       "<style scoped>\n",
       "    .dataframe tbody tr th:only-of-type {\n",
       "        vertical-align: middle;\n",
       "    }\n",
       "\n",
       "    .dataframe tbody tr th {\n",
       "        vertical-align: top;\n",
       "    }\n",
       "\n",
       "    .dataframe thead th {\n",
       "        text-align: right;\n",
       "    }\n",
       "</style>\n",
       "<table border=\"1\" class=\"dataframe\">\n",
       "  <thead>\n",
       "    <tr style=\"text-align: right;\">\n",
       "      <th></th>\n",
       "      <th>0</th>\n",
       "      <th>YearsExperience</th>\n",
       "      <th>Salary</th>\n",
       "    </tr>\n",
       "  </thead>\n",
       "  <tbody>\n",
       "    <tr>\n",
       "      <th>count</th>\n",
       "      <td>50.0</td>\n",
       "      <td>50.000000</td>\n",
       "      <td>50.00000</td>\n",
       "    </tr>\n",
       "    <tr>\n",
       "      <th>mean</th>\n",
       "      <td>1.0</td>\n",
       "      <td>9.480000</td>\n",
       "      <td>77370.54740</td>\n",
       "    </tr>\n",
       "    <tr>\n",
       "      <th>std</th>\n",
       "      <td>0.0</td>\n",
       "      <td>5.485491</td>\n",
       "      <td>28298.92442</td>\n",
       "    </tr>\n",
       "    <tr>\n",
       "      <th>min</th>\n",
       "      <td>1.0</td>\n",
       "      <td>1.400000</td>\n",
       "      <td>33048.80000</td>\n",
       "    </tr>\n",
       "    <tr>\n",
       "      <th>25%</th>\n",
       "      <td>1.0</td>\n",
       "      <td>4.500000</td>\n",
       "      <td>53861.88000</td>\n",
       "    </tr>\n",
       "    <tr>\n",
       "      <th>50%</th>\n",
       "      <td>1.0</td>\n",
       "      <td>9.300000</td>\n",
       "      <td>78598.65000</td>\n",
       "    </tr>\n",
       "    <tr>\n",
       "      <th>75%</th>\n",
       "      <td>1.0</td>\n",
       "      <td>13.350000</td>\n",
       "      <td>95356.22500</td>\n",
       "    </tr>\n",
       "    <tr>\n",
       "      <th>max</th>\n",
       "      <td>1.0</td>\n",
       "      <td>19.400000</td>\n",
       "      <td>140646.44000</td>\n",
       "    </tr>\n",
       "  </tbody>\n",
       "</table>\n",
       "</div>"
      ]
     },
     "execution_count": 98,
     "metadata": {},
     "output_type": "execute_result"
    }
   ],
   "execution_count": 98
  },
  {
   "metadata": {
    "ExecuteTime": {
     "end_time": "2024-12-12T18:51:26.457128Z",
     "start_time": "2024-12-12T18:51:26.453104Z"
    }
   },
   "cell_type": "code",
   "source": [
    "x_train, x_valid = np.split(x, [int(0.8*len(x))])\n",
    "y_train, y_valid = np.split(y, [int(0.8*len(y))])"
   ],
   "id": "c163eb83d52cf41d",
   "outputs": [],
   "execution_count": 84
  },
  {
   "metadata": {
    "ExecuteTime": {
     "end_time": "2024-12-12T19:11:29.666539Z",
     "start_time": "2024-12-12T19:11:29.661515Z"
    }
   },
   "cell_type": "code",
   "source": [
    "class LinearRegression:\n",
    "    def __init__(self, theta0 = None, eps = 1e-5, a = 3e-5):\n",
    "        self.theta = theta0\n",
    "        self.eps = eps\n",
    "        self.a = a\n",
    "    def fit(self, x, y):\n",
    "        m, n = x.shape\n",
    "        self.theta = np.zeros(n)\n",
    "        while True:\n",
    "            oldtheta = np.copy(self.theta)\n",
    "            self.theta += self.a * np.dot((y - np.dot(x, self.theta)), x) /m\n",
    "            if np.linalg.norm(self.theta - oldtheta, ord=1) < self.eps:\n",
    "                break\n",
    "    def predict(self, x):\n",
    "        return np.dot(x, self.theta)"
   ],
   "id": "2619a2c78b026b53",
   "outputs": [],
   "execution_count": 107
  },
  {
   "metadata": {
    "ExecuteTime": {
     "end_time": "2024-12-12T19:11:39.347689Z",
     "start_time": "2024-12-12T19:11:31.407350Z"
    }
   },
   "cell_type": "code",
   "source": [
    "model = LinearRegression()\n",
    "model.fit(x_train, y_train)"
   ],
   "id": "82e90262d6d07ef1",
   "outputs": [],
   "execution_count": 108
  },
  {
   "metadata": {
    "ExecuteTime": {
     "end_time": "2024-12-12T19:11:42.454482Z",
     "start_time": "2024-12-12T19:11:42.450046Z"
    }
   },
   "cell_type": "code",
   "source": "print(model.theta)",
   "id": "79f62aee88597256",
   "outputs": [
    {
     "name": "stdout",
     "output_type": "stream",
     "text": [
      "[29575.02667529  5013.87030258]\n"
     ]
    }
   ],
   "execution_count": 109
  },
  {
   "metadata": {
    "ExecuteTime": {
     "end_time": "2024-12-12T18:54:03.554Z",
     "start_time": "2024-12-12T18:54:03.549456Z"
    }
   },
   "cell_type": "code",
   "source": [
    "mse_valid = np.linalg.norm(y_valid - model.predict(x_valid), ord=2)\n",
    "mae_valid = np.linalg.norm(y_valid - model.predict(x_valid), ord=1)\n",
    "mae_train = np.linalg.norm(y_train - model.predict(x_train), ord=1)\n",
    "mse_train = np.linalg.norm(y_train - model.predict(x_train), ord=2)\n",
    "print(mse_valid, mse_train, mae_valid, mae_train)"
   ],
   "id": "cfb43c5ed1568286",
   "outputs": [
    {
     "name": "stdout",
     "output_type": "stream",
     "text": [
      "22685.13951336019 60247.788115139025 61954.85247672654 301521.90248416807\n"
     ]
    }
   ],
   "execution_count": 90
  },
  {
   "metadata": {
    "ExecuteTime": {
     "end_time": "2024-12-12T18:54:41.447675Z",
     "start_time": "2024-12-12T18:54:41.388151Z"
    }
   },
   "cell_type": "code",
   "source": [
    "plt.plot(x[:,1], y, 'bx', linewidth=2)\n",
    "plt.axline((0, model.theta[0]), slope=model.theta[1] , linewidth=4, color='r')\n",
    "plt.show()"
   ],
   "id": "5cec5829793f0213",
   "outputs": [
    {
     "data": {
      "text/plain": [
       "<Figure size 640x480 with 1 Axes>"
      ],
      "image/png": "[encoded data removed]"
     },
     "metadata": {},
     "output_type": "display_data"
    }
   ],
   "execution_count": 91
  },
  {
   "metadata": {},
   "cell_type": "markdown",
   "source": "**BONUS**",
   "id": "9e476cf1f9f52e71"
  },
  {
   "metadata": {
    "ExecuteTime": {
     "end_time": "2024-12-12T19:48:34.062365Z",
     "start_time": "2024-12-12T19:48:34.058056Z"
    }
   },
   "cell_type": "code",
   "source": [
    "df = pd.read_csv('extended_salary_data.csv')\n",
    "m, n = df.shape\n",
    "df.insert(0, column='intercept', value=np.ones(m))"
   ],
   "id": "6a0fb52f14fa499c",
   "outputs": [],
   "execution_count": 190
  },
  {
   "metadata": {
    "ExecuteTime": {
     "end_time": "2024-12-12T19:48:36.159841Z",
     "start_time": "2024-12-12T19:48:36.155298Z"
    }
   },
   "cell_type": "code",
   "source": "df.insert(2, column='NumProjectsCompleted', value=np.array((df['YearsExperience'])/2 + 1).astype(int))",
   "id": "85b5f83519514913",
   "outputs": [],
   "execution_count": 191
  },
  {
   "metadata": {
    "ExecuteTime": {
     "end_time": "2024-12-12T19:48:37.535242Z",
     "start_time": "2024-12-12T19:48:37.531018Z"
    }
   },
   "cell_type": "code",
   "source": [
    "#adding noise\n",
    "noise = np.random.poisson(1, m)\n",
    "df['NumProjectsCompleted'] += noise"
   ],
   "id": "e276a7be3e50fdfc",
   "outputs": [],
   "execution_count": 192
  },
  {
   "metadata": {
    "ExecuteTime": {
     "end_time": "2024-12-12T19:48:39.355937Z",
     "start_time": "2024-12-12T19:48:39.348805Z"
    }
   },
   "cell_type": "code",
   "source": "print(df)",
   "id": "bb55665a8e441eba",
   "outputs": [
    {
     "name": "stdout",
     "output_type": "stream",
     "text": [
      "    intercept  YearsExperience  NumProjectsCompleted     Salary\n",
      "0         1.0              8.1                     6   77884.67\n",
      "1         1.0             19.1                    11  127213.68\n",
      "2         1.0             14.9                    10  103343.52\n",
      "3         1.0             12.4                     7   88988.96\n",
      "4         1.0              4.0                     3   35214.78\n",
      "5         1.0              4.0                     4   42801.56\n",
      "6         1.0              2.1                     3   35893.61\n",
      "7         1.0             17.5                    10  128071.22\n",
      "8         1.0             12.4                     8   95436.18\n",
      "9         1.0             14.5                     9   84869.60\n",
      "10        1.0              1.4                     1   40240.84\n",
      "11        1.0             19.4                    12  123149.18\n",
      "12        1.0             16.8                    10  107230.78\n",
      "13        1.0              5.0                     5   61116.76\n",
      "14        1.0              4.5                     4   62810.00\n",
      "15        1.0              4.5                     5   61812.80\n",
      "16        1.0              6.8                     5   55607.82\n",
      "17        1.0             11.0                     6   81907.88\n",
      "18        1.0              9.2                     7   79312.63\n",
      "19        1.0              6.5                     4   72255.45\n",
      "20        1.0             12.6                     8   88208.26\n",
      "21        1.0              3.7                     2   46643.41\n",
      "22        1.0              6.6                     4   51936.65\n",
      "23        1.0              8.0                     5   58037.93\n",
      "24        1.0              9.7                     6   86625.26\n",
      "25        1.0             15.9                    11  123062.40\n",
      "26        1.0              4.8                     4   53279.90\n",
      "27        1.0             10.8                     6   94035.33\n",
      "28        1.0             12.3                     8   95116.36\n",
      "29        1.0              1.9                     1   33048.80\n",
      "30        1.0             12.5                     9   96113.96\n",
      "31        1.0              4.2                     5   66380.37\n",
      "32        1.0              2.2                     2   40641.74\n",
      "33        1.0             19.0                    11  140646.44\n",
      "34        1.0             19.3                    10  100302.55\n",
      "35        1.0             16.4                    10  120219.03\n",
      "36        1.0              6.8                     4   64870.47\n",
      "37        1.0              2.9                     3   41509.93\n",
      "38        1.0             14.0                     8  100917.61\n",
      "39        1.0              9.4                     6   57124.31\n",
      "40        1.0              3.3                     2   44303.28\n",
      "41        1.0             10.4                     7   85571.13\n",
      "42        1.0              1.7                     1   53278.94\n",
      "43        1.0             18.3                    10  116317.30\n",
      "44        1.0              5.9                     3   51415.06\n",
      "45        1.0             13.6                     8   92982.43\n",
      "46        1.0              6.9                     4   73654.02\n",
      "47        1.0             10.9                     8   87787.51\n",
      "48        1.0             11.4                     7   81702.40\n",
      "49        1.0              4.5                     5   57632.67\n"
     ]
    }
   ],
   "execution_count": 193
  },
  {
   "metadata": {
    "ExecuteTime": {
     "end_time": "2024-12-12T19:48:42.359686Z",
     "start_time": "2024-12-12T19:48:42.355406Z"
    }
   },
   "cell_type": "code",
   "source": [
    "x = np.array(df.iloc[:, :-1].values)\n",
    "y = np.array(df.iloc[:, -1].values)"
   ],
   "id": "65448d1e3096c3c9",
   "outputs": [],
   "execution_count": 194
  },
  {
   "metadata": {
    "ExecuteTime": {
     "end_time": "2024-12-12T19:48:43.514556Z",
     "start_time": "2024-12-12T19:48:43.449429Z"
    }
   },
   "cell_type": "code",
   "source": "plt.plot(x[:,2], y, 'bx', linewidth=2)",
   "id": "5fd999a529ba282e",
   "outputs": [
    {
     "data": {
      "text/plain": [
       "[<matplotlib.lines.Line2D at 0x778da0bec950>]"
      ]
     },
     "execution_count": 195,
     "metadata": {},
     "output_type": "execute_result"
    },
    {
     "data": {
      "text/plain": [
       "<Figure size 640x480 with 1 Axes>"
      ],
      "image/png": "[encoded data removed]"
     },
     "metadata": {},
     "output_type": "display_data"
    }
   ],
   "execution_count": 195
  },
  {
   "metadata": {
    "ExecuteTime": {
     "end_time": "2024-12-12T19:48:45.710090Z",
     "start_time": "2024-12-12T19:48:45.705438Z"
    }
   },
   "cell_type": "code",
   "source": [
    "x_train, x_valid = np.split(x, [int(0.8*len(x))])\n",
    "y_train, y_valid = np.split(y, [int(0.8*len(y))])"
   ],
   "id": "ca2009bc2726c356",
   "outputs": [],
   "execution_count": 196
  },
  {
   "metadata": {
    "ExecuteTime": {
     "end_time": "2024-12-12T19:49:00.908746Z",
     "start_time": "2024-12-12T19:48:46.918705Z"
    }
   },
   "cell_type": "code",
   "source": [
    "model_new = LinearRegression()\n",
    "model_new.fit(x_train, y_train)"
   ],
   "id": "3519736213027006",
   "outputs": [],
   "execution_count": 197
  },
  {
   "metadata": {
    "ExecuteTime": {
     "end_time": "2024-12-12T19:49:01.734372Z",
     "start_time": "2024-12-12T19:49:01.731280Z"
    }
   },
   "cell_type": "code",
   "source": "model_new.theta",
   "id": "953c73dc62c270b3",
   "outputs": [
    {
     "data": {
      "text/plain": [
       "array([23911.23286449,  2653.962012  ,  4506.22900051])"
      ]
     },
     "execution_count": 198,
     "metadata": {},
     "output_type": "execute_result"
    }
   ],
   "execution_count": 198
  },
  {
   "metadata": {
    "ExecuteTime": {
     "end_time": "2024-12-12T19:49:04.619844Z",
     "start_time": "2024-12-12T19:49:04.614955Z"
    }
   },
   "cell_type": "code",
   "source": [
    "mse_valid = np.linalg.norm(y_valid - model_new.predict(x_valid), ord=2)\n",
    "mae_valid = np.linalg.norm(y_valid - model_new.predict(x_valid), ord=1)\n",
    "mae_train = np.linalg.norm(y_train - model_new.predict(x_train), ord=1)\n",
    "mse_train = np.linalg.norm(y_train - model_new.predict(x_train), ord=2)\n",
    "print(mse_valid, mse_train, mae_valid, mae_train)"
   ],
   "id": "106b69a1542766be",
   "outputs": [
    {
     "name": "stdout",
     "output_type": "stream",
     "text": [
      "25270.476502682315 56088.5742698578 50723.24185047574 286003.9875557405\n"
     ]
    }
   ],
   "execution_count": 199
  },
  {
   "metadata": {},
   "cell_type": "markdown",
   "source": "",
   "id": "e19fc85e67ec13c4"
  }
 ],
 "metadata": {
  "kernelspec": {
   "display_name": "Python 3",
   "language": "python",
   "name": "python3"
  },
  "language_info": {
   "codemirror_mode": {
    "name": "ipython",
    "version": 2
   },
   "file_extension": ".py",
   "mimetype": "text/x-python",
   "name": "python",
   "nbconvert_exporter": "python",
   "pygments_lexer": "ipython2",
   "version": "2.7.6"
  }
 },
 "nbformat": 4,
 "nbformat_minor": 5
}
