{
 "cells": [
  {
   "metadata": {},
   "cell_type": "markdown",
   "source": [
    "**Assignment 2 Solutions** <br>\n",
    "Importing Required Libraries"
   ],
   "id": "911106edc732d7c5"
  },
  {
   "cell_type": "code",
   "id": "initial_id",
   "metadata": {
    "collapsed": true,
    "ExecuteTime": {
     "end_time": "2024-12-12T20:14:38.439103Z",
     "start_time": "2024-12-12T20:14:38.436505Z"
    }
   },
   "source": [
    "import numpy as np\n",
    "import pandas as pd\n",
    "import matplotlib.pyplot as plt"
   ],
   "outputs": [],
   "execution_count": 23
  },
  {
   "metadata": {},
   "cell_type": "markdown",
   "source": "Loading the dataset",
   "id": "8fc3786692bf6c0d"
  },
  {
   "metadata": {
    "ExecuteTime": {
     "end_time": "2024-12-12T20:14:38.488999Z",
     "start_time": "2024-12-12T20:14:38.483385Z"
    }
   },
   "cell_type": "code",
   "source": [
    "df = pd.read_csv('./extended_salary_data.csv')\n",
    "m, n = df.shape\n",
    "df.insert(0, column='Intercept', value=np.ones(m)) #adding a column of ones for constant in hypothesis function"
   ],
   "id": "f196a646f0800026",
   "outputs": [],
   "execution_count": 24
  },
  {
   "metadata": {},
   "cell_type": "markdown",
   "source": "Creating x, y for regression model",
   "id": "1fadc989de6df08b"
  },
  {
   "metadata": {
    "ExecuteTime": {
     "end_time": "2024-12-12T20:14:38.539370Z",
     "start_time": "2024-12-12T20:14:38.534326Z"
    }
   },
   "cell_type": "code",
   "source": [
    "x = np.array(df.iloc[:, :-1].values)\n",
    "y = np.array(df.iloc[:, -1].values)"
   ],
   "id": "6c1ad36615863e41",
   "outputs": [],
   "execution_count": 25
  },
  {
   "metadata": {},
   "cell_type": "markdown",
   "source": "Plotting y vs x",
   "id": "e9c818742ad92806"
  },
  {
   "metadata": {
    "ExecuteTime": {
     "end_time": "2024-12-12T20:14:38.654257Z",
     "start_time": "2024-12-12T20:14:38.592188Z"
    }
   },
   "cell_type": "code",
   "source": "plt.plot(x[:,1], y, 'bx', linewidth=2)",
   "id": "f9655c622f5753ac",
   "outputs": [
    {
     "data": {
      "text/plain": [
       "[<matplotlib.lines.Line2D at 0x7cdd9ff344d0>]"
      ]
     },
     "execution_count": 26,
     "metadata": {},
     "output_type": "execute_result"
    },
    {
     "data": {
      "text/plain": [
       "<Figure size 640x480 with 1 Axes>"
      ],
      "image/png": "[encoded data removed]"
     },
     "metadata": {},
     "output_type": "display_data"
    }
   ],
   "execution_count": 26
  },
  {
   "metadata": {},
   "cell_type": "markdown",
   "source": "Statistics of dataset",
   "id": "7dad520e6efe68b1"
  },
  {
   "metadata": {
    "ExecuteTime": {
     "end_time": "2024-12-12T20:14:38.668731Z",
     "start_time": "2024-12-12T20:14:38.661661Z"
    }
   },
   "cell_type": "code",
   "source": "df.describe()",
   "id": "a60f48e20fb70792",
   "outputs": [
    {
     "data": {
      "text/plain": [
       "          0  YearsExperience        Salary\n",
       "count  50.0        50.000000      50.00000\n",
       "mean    1.0         9.480000   77370.54740\n",
       "std     0.0         5.485491   28298.92442\n",
       "min     1.0         1.400000   33048.80000\n",
       "25%     1.0         4.500000   53861.88000\n",
       "50%     1.0         9.300000   78598.65000\n",
       "75%     1.0        13.350000   95356.22500\n",
       "max     1.0        19.400000  140646.44000"
      ],
      "text/html": [
       "<div>\n",
       "<style scoped>\n",
       "    .dataframe tbody tr th:only-of-type {\n",
       "        vertical-align: middle;\n",
       "    }\n",
       "\n",
       "    .dataframe tbody tr th {\n",
       "        vertical-align: top;\n",
       "    }\n",
       "\n",
       "    .dataframe thead th {\n",
       "        text-align: right;\n",
       "    }\n",
       "</style>\n",
       "<table border=\"1\" class=\"dataframe\">\n",
       "  <thead>\n",
       "    <tr style=\"text-align: right;\">\n",
       "      <th></th>\n",
       "      <th>0</th>\n",
       "      <th>YearsExperience</th>\n",
       "      <th>Salary</th>\n",
       "    </tr>\n",
       "  </thead>\n",
       "  <tbody>\n",
       "    <tr>\n",
       "      <th>count</th>\n",
       "      <td>50.0</td>\n",
       "      <td>50.000000</td>\n",
       "      <td>50.00000</td>\n",
       "    </tr>\n",
       "    <tr>\n",
       "      <th>mean</th>\n",
       "      <td>1.0</td>\n",
       "      <td>9.480000</td>\n",
       "      <td>77370.54740</td>\n",
       "    </tr>\n",
       "    <tr>\n",
       "      <th>std</th>\n",
       "      <td>0.0</td>\n",
       "      <td>5.485491</td>\n",
       "      <td>28298.92442</td>\n",
       "    </tr>\n",
       "    <tr>\n",
       "      <th>min</th>\n",
       "      <td>1.0</td>\n",
       "      <td>1.400000</td>\n",
       "      <td>33048.80000</td>\n",
       "    </tr>\n",
       "    <tr>\n",
       "      <th>25%</th>\n",
       "      <td>1.0</td>\n",
       "      <td>4.500000</td>\n",
       "      <td>53861.88000</td>\n",
       "    </tr>\n",
       "    <tr>\n",
       "      <th>50%</th>\n",
       "      <td>1.0</td>\n",
       "      <td>9.300000</td>\n",
       "      <td>78598.65000</td>\n",
       "    </tr>\n",
       "    <tr>\n",
       "      <th>75%</th>\n",
       "      <td>1.0</td>\n",
       "      <td>13.350000</td>\n",
       "      <td>95356.22500</td>\n",
       "    </tr>\n",
       "    <tr>\n",
       "      <th>max</th>\n",
       "      <td>1.0</td>\n",
       "      <td>19.400000</td>\n",
       "      <td>140646.44000</td>\n",
       "    </tr>\n",
       "  </tbody>\n",
       "</table>\n",
       "</div>"
      ]
     },
     "execution_count": 27,
     "metadata": {},
     "output_type": "execute_result"
    }
   ],
   "execution_count": 27
  },
  {
   "metadata": {},
   "cell_type": "markdown",
   "source": "Splitting Dataset for training and validation",
   "id": "4bc2c66511338884"
  },
  {
   "metadata": {
    "ExecuteTime": {
     "end_time": "2024-12-12T20:14:38.725700Z",
     "start_time": "2024-12-12T20:14:38.723898Z"
    }
   },
   "cell_type": "code",
   "source": [
    "x_train, x_valid = np.split(x, [int(0.8*len(x))])\n",
    "y_train, y_valid = np.split(y, [int(0.8*len(y))])"
   ],
   "id": "c163eb83d52cf41d",
   "outputs": [],
   "execution_count": 28
  },
  {
   "metadata": {},
   "cell_type": "markdown",
   "source": "Defining Linear Regression Model",
   "id": "8d8ad7b7154f4ab4"
  },
  {
   "metadata": {
    "ExecuteTime": {
     "end_time": "2024-12-12T20:14:38.774213Z",
     "start_time": "2024-12-12T20:14:38.768486Z"
    }
   },
   "cell_type": "code",
   "source": [
    "class LinearRegression:\n",
    "    def __init__(self, theta0 = None, eps = 1e-5, a = 3e-5):\n",
    "        self.theta = theta0\n",
    "        self.eps = eps\n",
    "        self.a = a\n",
    "    def fit(self, x, y):\n",
    "        m, n = x.shape\n",
    "        self.theta = np.zeros(n)\n",
    "        while True:\n",
    "            oldtheta = np.copy(self.theta)\n",
    "            self.theta += self.a * np.dot((y - np.dot(x, self.theta)), x) /m\n",
    "            if np.linalg.norm(self.theta - oldtheta, ord=1) < self.eps:\n",
    "                break\n",
    "    def predict(self, x):\n",
    "        return np.dot(x, self.theta)"
   ],
   "id": "2619a2c78b026b53",
   "outputs": [],
   "execution_count": 29
  },
  {
   "metadata": {},
   "cell_type": "markdown",
   "source": "Creating instance of model and fitting it on training dataset",
   "id": "d358e20e37bc272a"
  },
  {
   "metadata": {
    "ExecuteTime": {
     "end_time": "2024-12-12T20:14:47.242395Z",
     "start_time": "2024-12-12T20:14:38.802725Z"
    }
   },
   "cell_type": "code",
   "source": [
    "model = LinearRegression()\n",
    "model.fit(x_train, y_train)"
   ],
   "id": "82e90262d6d07ef1",
   "outputs": [],
   "execution_count": 30
  },
  {
   "metadata": {},
   "cell_type": "markdown",
   "source": "Final Theta/Weights of Model",
   "id": "92f138f7dc4ddf01"
  },
  {
   "metadata": {
    "ExecuteTime": {
     "end_time": "2024-12-12T20:14:47.252254Z",
     "start_time": "2024-12-12T20:14:47.249809Z"
    }
   },
   "cell_type": "code",
   "source": "print(model.theta)",
   "id": "79f62aee88597256",
   "outputs": [
    {
     "name": "stdout",
     "output_type": "stream",
     "text": [
      "[29575.02667529  5013.87030258]\n"
     ]
    }
   ],
   "execution_count": 31
  },
  {
   "metadata": {},
   "cell_type": "markdown",
   "source": "Calculating MSE and MAE",
   "id": "688e40f7b57cf918"
  },
  {
   "metadata": {
    "ExecuteTime": {
     "end_time": "2024-12-12T20:20:16.427347Z",
     "start_time": "2024-12-12T20:20:16.424024Z"
    }
   },
   "cell_type": "code",
   "source": [
    "mse_valid = (np.linalg.norm(y_valid - model.predict(x_valid), ord=2)) ** 2 / m\n",
    "mae_valid = np.linalg.norm(y_valid - model.predict(x_valid), ord=1)\n",
    "mae_train = np.linalg.norm(y_train - model.predict(x_train), ord=1)\n",
    "mse_train = (np.linalg.norm(y_train - model.predict(x_train), ord=2)) ** 2 /m\n",
    "print('MSE on valid dataset', mse_valid)\n",
    "print('MAE on valid dataset', mae_valid)\n",
    "print('MSE on train dataset', mse_train)\n",
    "print('MAE on train dataset', mae_train)"
   ],
   "id": "cfb43c5ed1568286",
   "outputs": [
    {
     "name": "stdout",
     "output_type": "stream",
     "text": [
      "MSE on valid dataset 10292311.094812317\n",
      "MAE on valid dataset 61954.85247672654\n",
      "MSE on train dataset 72595919.45533374\n",
      "MAE on train dataset 301521.90248416807\n"
     ]
    }
   ],
   "execution_count": 46
  },
  {
   "metadata": {},
   "cell_type": "markdown",
   "source": "Plotting regression line over dataset",
   "id": "127e9923f41cd4f"
  },
  {
   "metadata": {
    "ExecuteTime": {
     "end_time": "2024-12-12T20:14:47.430758Z",
     "start_time": "2024-12-12T20:14:47.367362Z"
    }
   },
   "cell_type": "code",
   "source": [
    "plt.plot(x[:,1], y, 'bx', linewidth=2)\n",
    "plt.axline((0, model.theta[0]), slope=model.theta[1] , linewidth=4, color='r')\n",
    "plt.show()"
   ],
   "id": "5cec5829793f0213",
   "outputs": [
    {
     "data": {
      "text/plain": [
       "<Figure size 640x480 with 1 Axes>"
      ],
      "image/png": "[encoded data removed]"
     },
     "metadata": {},
     "output_type": "display_data"
    }
   ],
   "execution_count": 33
  },
  {
   "metadata": {},
   "cell_type": "markdown",
   "source": "**BONUS**",
   "id": "9e476cf1f9f52e71"
  },
  {
   "metadata": {
    "ExecuteTime": {
     "end_time": "2024-12-12T20:14:47.441391Z",
     "start_time": "2024-12-12T20:14:47.438441Z"
    }
   },
   "cell_type": "code",
   "source": [
    "df = pd.read_csv('./extended_salary_data.csv')\n",
    "m, n = df.shape\n",
    "df.insert(0, column='Intercept', value=np.ones(m))"
   ],
   "id": "6a0fb52f14fa499c",
   "outputs": [],
   "execution_count": 34
  },
  {
   "metadata": {},
   "cell_type": "markdown",
   "source": "Adding new column of synthetic feature",
   "id": "d2e464399095cdcb"
  },
  {
   "metadata": {
    "ExecuteTime": {
     "end_time": "2024-12-12T20:14:47.487684Z",
     "start_time": "2024-12-12T20:14:47.482580Z"
    }
   },
   "cell_type": "code",
   "source": "df.insert(2, column='NumProjectsCompleted', value=np.array((df['YearsExperience'])/2 - 1).astype(int))",
   "id": "85b5f83519514913",
   "outputs": [],
   "execution_count": 35
  },
  {
   "metadata": {},
   "cell_type": "markdown",
   "source": "Adding random noise to data",
   "id": "9cded4d25a3bf4f4"
  },
  {
   "metadata": {
    "ExecuteTime": {
     "end_time": "2024-12-12T20:14:47.537446Z",
     "start_time": "2024-12-12T20:14:47.533283Z"
    }
   },
   "cell_type": "code",
   "source": [
    "#adding poisson noise since Number of project completed should be integer\n",
    "noise = np.random.poisson(1, m)\n",
    "df['NumProjectsCompleted'] += noise"
   ],
   "id": "e276a7be3e50fdfc",
   "outputs": [],
   "execution_count": 36
  },
  {
   "metadata": {},
   "cell_type": "markdown",
   "source": "New Dataset",
   "id": "bf00103ed7dc921d"
  },
  {
   "metadata": {
    "ExecuteTime": {
     "end_time": "2024-12-12T20:14:47.600229Z",
     "start_time": "2024-12-12T20:14:47.590689Z"
    }
   },
   "cell_type": "code",
   "source": "print(df)",
   "id": "bb55665a8e441eba",
   "outputs": [
    {
     "name": "stdout",
     "output_type": "stream",
     "text": [
      "    intercept  YearsExperience  NumProjectsCompleted     Salary\n",
      "0         1.0              8.1                     4   77884.67\n",
      "1         1.0             19.1                     9  127213.68\n",
      "2         1.0             14.9                     6  103343.52\n",
      "3         1.0             12.4                     5   88988.96\n",
      "4         1.0              4.0                     1   35214.78\n",
      "5         1.0              4.0                     1   42801.56\n",
      "6         1.0              2.1                     0   35893.61\n",
      "7         1.0             17.5                     7  128071.22\n",
      "8         1.0             12.4                     5   95436.18\n",
      "9         1.0             14.5                     7   84869.60\n",
      "10        1.0              1.4                     2   40240.84\n",
      "11        1.0             19.4                     8  123149.18\n",
      "12        1.0             16.8                     7  107230.78\n",
      "13        1.0              5.0                     1   61116.76\n",
      "14        1.0              4.5                     2   62810.00\n",
      "15        1.0              4.5                     2   61812.80\n",
      "16        1.0              6.8                     3   55607.82\n",
      "17        1.0             11.0                     4   81907.88\n",
      "18        1.0              9.2                     4   79312.63\n",
      "19        1.0              6.5                     2   72255.45\n",
      "20        1.0             12.6                     7   88208.26\n",
      "21        1.0              3.7                     1   46643.41\n",
      "22        1.0              6.6                     3   51936.65\n",
      "23        1.0              8.0                     3   58037.93\n",
      "24        1.0              9.7                     7   86625.26\n",
      "25        1.0             15.9                     7  123062.40\n",
      "26        1.0              4.8                     3   53279.90\n",
      "27        1.0             10.8                     4   94035.33\n",
      "28        1.0             12.3                     5   95116.36\n",
      "29        1.0              1.9                     1   33048.80\n",
      "30        1.0             12.5                     6   96113.96\n",
      "31        1.0              4.2                     3   66380.37\n",
      "32        1.0              2.2                     4   40641.74\n",
      "33        1.0             19.0                    11  140646.44\n",
      "34        1.0             19.3                     9  100302.55\n",
      "35        1.0             16.4                     9  120219.03\n",
      "36        1.0              6.8                     4   64870.47\n",
      "37        1.0              2.9                     1   41509.93\n",
      "38        1.0             14.0                     6  100917.61\n",
      "39        1.0              9.4                     4   57124.31\n",
      "40        1.0              3.3                     0   44303.28\n",
      "41        1.0             10.4                     5   85571.13\n",
      "42        1.0              1.7                     1   53278.94\n",
      "43        1.0             18.3                    10  116317.30\n",
      "44        1.0              5.9                     1   51415.06\n",
      "45        1.0             13.6                     5   92982.43\n",
      "46        1.0              6.9                     4   73654.02\n",
      "47        1.0             10.9                     5   87787.51\n",
      "48        1.0             11.4                     4   81702.40\n",
      "49        1.0              4.5                     1   57632.67\n"
     ]
    }
   ],
   "execution_count": 37
  },
  {
   "metadata": {},
   "cell_type": "markdown",
   "source": "Creating x, y",
   "id": "2303382c72055251"
  },
  {
   "metadata": {
    "ExecuteTime": {
     "end_time": "2024-12-12T20:14:47.657084Z",
     "start_time": "2024-12-12T20:14:47.652159Z"
    }
   },
   "cell_type": "code",
   "source": [
    "x = np.array(df.iloc[:, :-1].values)\n",
    "y = np.array(df.iloc[:, -1].values)"
   ],
   "id": "65448d1e3096c3c9",
   "outputs": [],
   "execution_count": 38
  },
  {
   "metadata": {},
   "cell_type": "markdown",
   "source": "Plotting new column data against y",
   "id": "79485ee36090c99b"
  },
  {
   "metadata": {
    "ExecuteTime": {
     "end_time": "2024-12-12T20:14:47.764408Z",
     "start_time": "2024-12-12T20:14:47.705293Z"
    }
   },
   "cell_type": "code",
   "source": "plt.plot(x[:,2], y, 'bx', linewidth=2)",
   "id": "5fd999a529ba282e",
   "outputs": [
    {
     "data": {
      "text/plain": [
       "[<matplotlib.lines.Line2D at 0x7cdd9b505850>]"
      ]
     },
     "execution_count": 39,
     "metadata": {},
     "output_type": "execute_result"
    },
    {
     "data": {
      "text/plain": [
       "<Figure size 640x480 with 1 Axes>"
      ],
      "image/png": "[encoded data removed]"
     },
     "metadata": {},
     "output_type": "display_data"
    }
   ],
   "execution_count": 39
  },
  {
   "metadata": {
    "ExecuteTime": {
     "end_time": "2024-12-12T20:14:47.774836Z",
     "start_time": "2024-12-12T20:14:47.773028Z"
    }
   },
   "cell_type": "code",
   "source": [
    "x_train_new, x_valid_new = np.split(x, [int(0.8*len(x))])\n",
    "y_train_new, y_valid_new = np.split(y, [int(0.8*len(y))])"
   ],
   "id": "ca2009bc2726c356",
   "outputs": [],
   "execution_count": 40
  },
  {
   "metadata": {
    "ExecuteTime": {
     "end_time": "2024-12-12T20:14:56.413232Z",
     "start_time": "2024-12-12T20:14:47.816523Z"
    }
   },
   "cell_type": "code",
   "source": [
    "model_new = LinearRegression()\n",
    "model_new.fit(x_train_new, y_train_new)"
   ],
   "id": "3519736213027006",
   "outputs": [],
   "execution_count": 41
  },
  {
   "metadata": {
    "ExecuteTime": {
     "end_time": "2024-12-12T20:14:56.425552Z",
     "start_time": "2024-12-12T20:14:56.422231Z"
    }
   },
   "cell_type": "code",
   "source": "model_new.theta",
   "id": "953c73dc62c270b3",
   "outputs": [
    {
     "data": {
      "text/plain": [
       "array([29410.00945561,  4132.89807343,  1952.95021299])"
      ]
     },
     "execution_count": 42,
     "metadata": {},
     "output_type": "execute_result"
    }
   ],
   "execution_count": 42
  },
  {
   "metadata": {
    "ExecuteTime": {
     "end_time": "2024-12-12T20:19:21.680569Z",
     "start_time": "2024-12-12T20:19:21.674842Z"
    }
   },
   "cell_type": "code",
   "source": [
    "mse_valid_new = (np.linalg.norm(y_valid - model_new.predict(x_valid_new), ord=2)) ** 2 / m\n",
    "mae_valid_new = np.linalg.norm(y_valid - model_new.predict(x_valid_new), ord=1)\n",
    "mae_train_new = np.linalg.norm(y_train - model_new.predict(x_train_new), ord=1)\n",
    "mse_train_new = (np.linalg.norm(y_train - model_new.predict(x_train_new), ord=2)) ** 2 / m\n",
    "print('MSE on valid dataset', mse_valid_new)\n",
    "print('MAE on valid dataset', mae_valid_new)\n",
    "print('MSE on train dataset', mse_train_new)\n",
    "print('MAE on train dataset', mae_train_new)"
   ],
   "id": "106b69a1542766be",
   "outputs": [
    {
     "name": "stdout",
     "output_type": "stream",
     "text": [
      "MSE on valid dataset 9375023.468473487\n",
      "MAE on valid dataset 56330.46978517894\n",
      "MSE on train dataset 69399887.40534556\n",
      "MAE on train dataset 289297.54828626267\n"
     ]
    }
   ],
   "execution_count": 45
  },
  {
   "metadata": {},
   "cell_type": "markdown",
   "source": "Comparing Old model with New",
   "id": "a838b73995446ab"
  },
  {
   "metadata": {
    "ExecuteTime": {
     "end_time": "2024-12-12T20:20:22.319627Z",
     "start_time": "2024-12-12T20:20:22.315785Z"
    }
   },
   "cell_type": "code",
   "source": [
    "print(\"Changes:\")\n",
    "print('Change in MSE of Validation Dataset: ', (mse_valid - mse_valid_new))\n",
    "print('Change in MAE of Validation Dataset: ', (mae_valid - mae_valid_new))\n",
    "print('Change in MSE of Train Dataset: ', (mse_train - mse_train_new))\n",
    "print('Change in MAE of Train Dataset: ', (mae_train - mae_train_new))"
   ],
   "id": "54e2e6312cb0078",
   "outputs": [
    {
     "name": "stdout",
     "output_type": "stream",
     "text": [
      "Changes:\n",
      "Change in MSE of Validation Dataset:  917287.6263388302\n",
      "Change in MAE of Validation Dataset:  5624.382691547602\n",
      "Change in MSE of Train Dataset:  3196032.0499881804\n",
      "Change in MAE of Train Dataset:  12224.354197905399\n"
     ]
    }
   ],
   "execution_count": 47
  },
  {
   "metadata": {},
   "cell_type": "markdown",
   "source": "",
   "id": "e19fc85e67ec13c4"
  }
 ],
 "metadata": {
  "kernelspec": {
   "display_name": "Python 3",
   "language": "python",
   "name": "python3"
  },
  "language_info": {
   "codemirror_mode": {
    "name": "ipython",
    "version": 2
   },
   "file_extension": ".py",
   "mimetype": "text/x-python",
   "name": "python",
   "nbconvert_exporter": "python",
   "pygments_lexer": "ipython2",
   "version": "2.7.6"
  }
 },
 "nbformat": 4,
 "nbformat_minor": 5
}
